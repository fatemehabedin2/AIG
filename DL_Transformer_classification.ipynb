{
  "metadata": {
    "kernelspec": {
      "language": "python",
      "display_name": "Python 3",
      "name": "python3"
    },
    "language_info": {
      "name": "python",
      "version": "3.11.13",
      "mimetype": "text/x-python",
      "codemirror_mode": {
        "name": "ipython",
        "version": 3
      },
      "pygments_lexer": "ipython3",
      "nbconvert_exporter": "python",
      "file_extension": ".py"
    },
    "kaggle": {
      "accelerator": "nvidiaTeslaT4",
      "dataSources": [],
      "dockerImageVersionId": 31089,
      "isInternetEnabled": true,
      "language": "python",
      "sourceType": "notebook",
      "isGpuEnabled": true
    },
    "colab": {
      "name": "DL_Transformer_classification",
      "provenance": [],
      "include_colab_link": true
    }
  },
  "nbformat_minor": 0,
  "nbformat": 4,
  "cells": [
    {
      "cell_type": "markdown",
      "metadata": {
        "id": "view-in-github",
        "colab_type": "text"
      },
      "source": [
        "<a href=\"https://colab.research.google.com/github/fatemehabedin2/AIG/blob/main/DL_Transformer_classification.ipynb\" target=\"_parent\"><img src=\"https://colab.research.google.com/assets/colab-badge.svg\" alt=\"Open In Colab\"/></a>"
      ]
    },
    {
      "cell_type": "markdown",
      "source": [
        "# Introduction\n",
        "In this project, I will design, implement, and evaluate a Transformer-based neural network for a real-world NLP task.\n",
        "\n",
        "For this purpose, I am going to fune-tune a pre-trained transformer model to predict the Author of the text based on the writing style and context.\n",
        "\n",
        "# Data Collection and Creating Dataset\n",
        "\n",
        "I am using nltk.corpus.gutenberg to download 3 books from 3 Author, Jane Austen, G.K. Chesterton and William Shakespeare.\n"
      ],
      "metadata": {
        "id": "rK5bgIN0b_ut"
      }
    },
    {
      "cell_type": "code",
      "source": [
        "import nltk\n",
        "from nltk.corpus import gutenberg\n",
        "import pandas as pd\n",
        "\n",
        "# Download corpus if not already\n",
        "nltk.download('gutenberg')\n",
        "\n",
        "# Define mapping of author to their available files in the corpus\n",
        "author_files = {\n",
        "    \"austen\": [\"austen-emma.txt\", \"austen-persuasion.txt\", \"austen-sense.txt\"],\n",
        "    \"chesterton\": [\"chesterton-ball.txt\", \"chesterton-brown.txt\", \"chesterton-thursday.txt\"],\n",
        "    \"shakespeare\": [\"shakespeare-caesar.txt\", \"shakespeare-hamlet.txt\", \"shakespeare-macbeth.txt\"]\n",
        "}\n",
        "\n",
        "# Collect text-label pairs\n",
        "data = []\n",
        "\n",
        "for author, files in author_files.items():\n",
        "    for file_id in files:\n",
        "        # Get raw text\n",
        "        text = gutenberg.raw(file_id)\n",
        "        data.append((text, author))\n",
        "\n",
        "# Wrap into DataFrame\n",
        "df = pd.DataFrame(data, columns=[\"text\", \"author\"])\n",
        "\n",
        "print(df.head(10))\n",
        "print(df['author'].value_counts())\n"
      ],
      "metadata": {
        "_uuid": "8f2839f25d086af736a60e9eeb907d3b93b6e0e5",
        "_cell_guid": "b1076dfc-b9ad-4769-8c92-a6c4dae69d19",
        "trusted": true,
        "execution": {
          "iopub.status.busy": "2025-08-07T15:54:25.121592Z",
          "iopub.execute_input": "2025-08-07T15:54:25.121904Z",
          "iopub.status.idle": "2025-08-07T15:54:25.802385Z",
          "shell.execute_reply.started": "2025-08-07T15:54:25.121882Z",
          "shell.execute_reply": "2025-08-07T15:54:25.801641Z"
        },
        "id": "MgZsK1Bbb_uv",
        "outputId": "54ffd256-6d10-488f-da77-bb6b115c24b8"
      },
      "outputs": [
        {
          "name": "stderr",
          "text": "[nltk_data] Downloading package gutenberg to /usr/share/nltk_data...\n[nltk_data]   Package gutenberg is already up-to-date!\n",
          "output_type": "stream"
        },
        {
          "name": "stdout",
          "text": "                                                text       author\n0  [Emma by Jane Austen 1816]\\n\\nVOLUME I\\n\\nCHAP...       austen\n1  [Persuasion by Jane Austen 1818]\\n\\n\\nChapter ...       austen\n2  [Sense and Sensibility by Jane Austen 1811]\\n\\...       austen\n3  [The Ball and The Cross by G.K. Chesterton 190...   chesterton\n4  [The Wisdom of Father Brown by G. K. Chesterto...   chesterton\n5  [The Man Who Was Thursday by G. K. Chesterton ...   chesterton\n6  [The Tragedie of Julius Caesar by William Shak...  shakespeare\n7  [The Tragedie of Hamlet by William Shakespeare...  shakespeare\n8  [The Tragedie of Macbeth by William Shakespear...  shakespeare\nauthor\nausten         3\nchesterton     3\nshakespeare    3\nName: count, dtype: int64\n",
          "output_type": "stream"
        }
      ],
      "execution_count": null
    },
    {
      "cell_type": "code",
      "source": [
        "print(gutenberg.raw('austen-emma.txt')[:300])"
      ],
      "metadata": {
        "trusted": true,
        "execution": {
          "iopub.status.busy": "2025-08-05T17:40:31.448351Z",
          "iopub.execute_input": "2025-08-05T17:40:31.449029Z",
          "iopub.status.idle": "2025-08-05T17:40:31.453727Z",
          "shell.execute_reply.started": "2025-08-05T17:40:31.449002Z",
          "shell.execute_reply": "2025-08-05T17:40:31.453014Z"
        },
        "id": "pDqSYSdsb_uw",
        "outputId": "82469c67-7c93-478e-ce63-40273f8e3c56"
      },
      "outputs": [
        {
          "name": "stdout",
          "text": "[Emma by Jane Austen 1816]\n\nVOLUME I\n\nCHAPTER I\n\n\nEmma Woodhouse, handsome, clever, and rich, with a comfortable home\nand happy disposition, seemed to unite some of the best blessings\nof existence; and had lived nearly twenty-one years in the world\nwith very little to distress or vex her.\n\nShe was t\n",
          "output_type": "stream"
        }
      ],
      "execution_count": null
    },
    {
      "cell_type": "code",
      "source": [
        "print(gutenberg.raw('chesterton-thursday.txt')[:300])"
      ],
      "metadata": {
        "trusted": true,
        "execution": {
          "iopub.status.busy": "2025-07-28T14:37:46.029961Z",
          "iopub.execute_input": "2025-07-28T14:37:46.030335Z",
          "iopub.status.idle": "2025-07-28T14:37:46.036848Z",
          "shell.execute_reply.started": "2025-07-28T14:37:46.030309Z",
          "shell.execute_reply": "2025-07-28T14:37:46.036099Z"
        },
        "id": "PSMuF99Vb_ux",
        "outputId": "3a443f8c-34e0-4c40-c937-a8d5c65b02bc"
      },
      "outputs": [
        {
          "name": "stdout",
          "text": "[The Man Who Was Thursday by G. K. Chesterton 1908]\n\nTo Edmund Clerihew Bentley\n\nA cloud was on the mind of men, and wailing went the weather,\nYea, a sick cloud upon the soul when we were boys together.\nScience announced nonentity and art admired decay;\nThe world was old and ended: but you and I wer\n",
          "output_type": "stream"
        }
      ],
      "execution_count": null
    },
    {
      "cell_type": "markdown",
      "source": [
        "# Preprocessing (text cleaning) and Chunking\n",
        "Each Gutenberg file is long (a whole book), so to train a Transformer classifier effectively, we need to split each book into smaller text chunks (e.g., 200–300 words per sample), each labeled with the correct author.\n",
        "\n",
        "This will:\n",
        "\n",
        "Help the model generalize better\n",
        "\n",
        "Provide more training examples\n",
        "\n",
        "Keep input sizes within the limits of models like BERT"
      ],
      "metadata": {
        "id": "5IllbBNNb_ux"
      }
    },
    {
      "cell_type": "code",
      "source": [
        "# check for square bracket content inside each book befor cleaning the title from the book's text\n",
        "import re\n",
        "from nltk.corpus import gutenberg\n",
        "\n",
        "bracket_matches = {}\n",
        "\n",
        "for author, files in author_files.items():\n",
        "    for file_id in files:\n",
        "        text = gutenberg.raw(file_id)\n",
        "        matches = re.findall(r'\\[.*?\\]', text)\n",
        "        if matches:\n",
        "            bracket_matches[file_id] = matches\n",
        "\n",
        "for file_id, matches in bracket_matches.items():\n",
        "    print(f\"\\n{file_id} - Found {len(matches)} square bracketed items:\")\n",
        "    for match in matches[:10]:\n",
        "        print(f\"  {match}\")\n",
        "\n",
        "# seeing the result I think it is harmless to remove the content in square brackets like [Emma by Jane Austen 1816], because text in square brackets are not very contextual"
      ],
      "metadata": {
        "trusted": true,
        "execution": {
          "iopub.status.busy": "2025-08-07T15:54:29.652471Z",
          "iopub.execute_input": "2025-08-07T15:54:29.653036Z",
          "iopub.status.idle": "2025-08-07T15:54:29.666649Z",
          "shell.execute_reply.started": "2025-08-07T15:54:29.653013Z",
          "shell.execute_reply": "2025-08-07T15:54:29.666028Z"
        },
        "collapsed": true,
        "jupyter": {
          "outputs_hidden": true
        },
        "id": "d9LGeDI_b_ux",
        "outputId": "3624943a-5dd3-42c5-dbe9-f52659a8b962"
      },
      "outputs": [
        {
          "name": "stdout",
          "text": "\nausten-emma.txt - Found 2 square bracketed items:\n  [Emma by Jane Austen 1816]\n  [To Mrs. Weston.]\n\nausten-persuasion.txt - Found 1 square bracketed items:\n  [Persuasion by Jane Austen 1818]\n\nausten-sense.txt - Found 3 square bracketed items:\n  [Sense and Sensibility by Jane Austen 1811]\n  [At this point in the first and second editions, Volume 1 ends.]\n  [At this point in the first and second edtions, Volume II ended.]\n\nchesterton-ball.txt - Found 13 square bracketed items:\n  [The Ball and The Cross by G.K. Chesterton 1909]\n  [Employee Identification Number]\n  [1]\n  [2]\n  [1]\n  [2]\n  [3]\n  [1]\n  [*]\n  [*]\n\nchesterton-brown.txt - Found 1 square bracketed items:\n  [The Wisdom of Father Brown by G. K. Chesterton 1914]\n\nchesterton-thursday.txt - Found 1 square bracketed items:\n  [The Man Who Was Thursday by G. K. Chesterton 1908]\n\nshakespeare-caesar.txt - Found 3 square bracketed items:\n  [The Tragedie of Julius Caesar by William Shakespeare 1599]\n  [m]\n  [m]\n\nshakespeare-hamlet.txt - Found 6 square bracketed items:\n  [The Tragedie of Hamlet by William Shakespeare 1599]\n  [ord]\n  [m]\n  [aint]\n  [aint]\n  [m]\n\nshakespeare-macbeth.txt - Found 4 square bracketed items:\n  [The Tragedie of Macbeth by William Shakespeare 1603]\n  [m]\n  [n]\n  [m]\n",
          "output_type": "stream"
        }
      ],
      "execution_count": null
    },
    {
      "cell_type": "code",
      "source": [
        "import re\n",
        "\n",
        "def clean_text(text):\n",
        "    # Remove content in square brackets like [Emma by Jane Austen 1816]\n",
        "    text = re.sub(r'\\[.*?\\]', '', text)\n",
        "\n",
        "    # Split into lines before removing \\n\n",
        "    lines = text.split('\\n')\n",
        "\n",
        "    # Remove ALL-CAPS lines and empty lines\n",
        "    cleaned_lines = [\n",
        "        line for line in lines\n",
        "        if not line.strip().isupper() and len(line.strip()) > 0\n",
        "    ]\n",
        "\n",
        "    # Join and normalize whitespace\n",
        "    cleaned_text = \" \".join(cleaned_lines)\n",
        "    return cleaned_text\n",
        "\n",
        "\n",
        "cleaned_text = clean_text(gutenberg.raw(\"austen-emma.txt\"))\n",
        "print(cleaned_text[:500])"
      ],
      "metadata": {
        "trusted": true,
        "execution": {
          "iopub.status.busy": "2025-08-07T13:42:34.296482Z",
          "iopub.execute_input": "2025-08-07T13:42:34.296748Z",
          "iopub.status.idle": "2025-08-07T13:42:34.308618Z",
          "shell.execute_reply.started": "2025-08-07T13:42:34.296727Z",
          "shell.execute_reply": "2025-08-07T13:42:34.308096Z"
        },
        "id": "4loAOO4gb_uy",
        "outputId": "24acd5bc-360a-4cd7-b65a-f44a6be8e0c3"
      },
      "outputs": [
        {
          "name": "stdout",
          "text": "Emma Woodhouse, handsome, clever, and rich, with a comfortable home and happy disposition, seemed to unite some of the best blessings of existence; and had lived nearly twenty-one years in the world with very little to distress or vex her. She was the youngest of the two daughters of a most affectionate, indulgent father; and had, in consequence of her sister's marriage, been mistress of his house from a very early period.  Her mother had died too long ago for her to have more than an indistinct\n",
          "output_type": "stream"
        }
      ],
      "execution_count": null
    },
    {
      "cell_type": "code",
      "source": [
        "def chunk_cleaned_text(text, chunk_size):\n",
        "    words = text.split()\n",
        "\n",
        "    chunks = []\n",
        "    for i in range(0, len(words), chunk_size):\n",
        "        chunk = \" \".join(words[i:i+chunk_size])\n",
        "\n",
        "        if len(chunk.split()) >= chunk_size // 2:   # Only keep this chunk if it has at least half the chunk size\n",
        "            chunks.append(chunk)\n",
        "    return chunks\n"
      ],
      "metadata": {
        "trusted": true,
        "execution": {
          "iopub.status.busy": "2025-08-07T13:42:38.528085Z",
          "iopub.execute_input": "2025-08-07T13:42:38.528683Z",
          "iopub.status.idle": "2025-08-07T13:42:38.533004Z",
          "shell.execute_reply.started": "2025-08-07T13:42:38.528659Z",
          "shell.execute_reply": "2025-08-07T13:42:38.532272Z"
        },
        "id": "ulslNqlib_uy"
      },
      "outputs": [],
      "execution_count": null
    },
    {
      "cell_type": "code",
      "source": [
        "# Creating Final Dataset\n",
        "chunk_size = 128\n",
        "chunked_data = []\n",
        "\n",
        "for _, row in df.iterrows():\n",
        "\n",
        "    cleaned = clean_text(row[\"text\"])\n",
        "    chunks = chunk_cleaned_text(cleaned, chunk_size=chunk_size)\n",
        "    for chunk in chunks:\n",
        "        chunked_data.append((chunk, row[\"author\"]))\n",
        "\n",
        "chunked_df = pd.DataFrame(chunked_data, columns=[\"text\", \"author\"])\n",
        "\n",
        "print(chunked_df.head())\n",
        "print(chunked_df['author'].value_counts())\n"
      ],
      "metadata": {
        "trusted": true,
        "execution": {
          "iopub.status.busy": "2025-08-07T13:42:43.859128Z",
          "iopub.execute_input": "2025-08-07T13:42:43.859406Z",
          "iopub.status.idle": "2025-08-07T13:42:43.982335Z",
          "shell.execute_reply.started": "2025-08-07T13:42:43.859361Z",
          "shell.execute_reply": "2025-08-07T13:42:43.981804Z"
        },
        "id": "oHW5V7d-b_uy",
        "outputId": "1df0f711-855f-44d9-89e3-d419bdc48a21"
      },
      "outputs": [
        {
          "name": "stdout",
          "text": "                                                text  author\n0  Emma Woodhouse, handsome, clever, and rich, wi...  austen\n1  a friend, very fond of both daughters, but par...  austen\n2  however, was at present so unperceived, that t...  austen\n3  of unexceptionable character, easy fortune, su...  austen\n4  their being left to each other, was yet a dear...  austen\nauthor\nausten         2812\nchesterton     1647\nshakespeare     530\nName: count, dtype: int64\n",
          "output_type": "stream"
        }
      ],
      "execution_count": null
    },
    {
      "cell_type": "markdown",
      "source": [
        "# Tokenization with roberta-base"
      ],
      "metadata": {
        "id": "C8UgFjrGb_uz"
      }
    },
    {
      "cell_type": "markdown",
      "source": [
        "First I need to encode the labels, because classification models don’t understand string labels like \"austen\", \"chesterton\", or \"shakespeare\" directly.\n",
        "\n",
        "Transformer models expect the labels to be integers so they can compute loss (e.g., using CrossEntropyLoss) and make predictions accordingly."
      ],
      "metadata": {
        "id": "U9JaEGohb_uz"
      }
    },
    {
      "cell_type": "code",
      "source": [
        "from sklearn.preprocessing import LabelEncoder\n",
        "\n",
        "# Encode labels\n",
        "le = LabelEncoder()\n",
        "chunked_df['label'] = le.fit_transform(chunked_df['author'])\n",
        "\n",
        "# For reference\n",
        "print(dict(zip(le.classes_, le.transform(le.classes_))))"
      ],
      "metadata": {
        "trusted": true,
        "execution": {
          "iopub.status.busy": "2025-08-07T13:42:51.927476Z",
          "iopub.execute_input": "2025-08-07T13:42:51.927734Z",
          "iopub.status.idle": "2025-08-07T13:42:51.933684Z",
          "shell.execute_reply.started": "2025-08-07T13:42:51.927715Z",
          "shell.execute_reply": "2025-08-07T13:42:51.932864Z"
        },
        "id": "L4tCN-Etb_uz",
        "outputId": "6aee23cd-acde-40bd-c76e-3e094325cd50"
      },
      "outputs": [
        {
          "name": "stdout",
          "text": "{'austen': 0, 'chesterton': 1, 'shakespeare': 2}\n",
          "output_type": "stream"
        }
      ],
      "execution_count": null
    },
    {
      "cell_type": "code",
      "source": [
        "# Prepare the final dataset\n",
        "\n",
        "from datasets import Dataset, ClassLabel\n",
        "import pandas as pd\n",
        "\n",
        "# Create Hugging Face dataset\n",
        "hf_dataset = Dataset.from_pandas(chunked_df[['text', 'label']])  # we only need relevant columns\n",
        "\n",
        "# see the label names\n",
        "label_names = list(le.classes_)\n",
        "num_labels = len(label_names)\n",
        "print(num_labels, label_names)"
      ],
      "metadata": {
        "trusted": true,
        "execution": {
          "iopub.status.busy": "2025-08-07T13:42:57.470301Z",
          "iopub.execute_input": "2025-08-07T13:42:57.470583Z",
          "iopub.status.idle": "2025-08-07T13:42:59.306033Z",
          "shell.execute_reply.started": "2025-08-07T13:42:57.470564Z",
          "shell.execute_reply": "2025-08-07T13:42:59.305433Z"
        },
        "id": "hmC-7HK0b_uz",
        "outputId": "aa061da0-6587-46ec-9b9b-36f3a2f8b9a9"
      },
      "outputs": [
        {
          "name": "stdout",
          "text": "3 ['austen', 'chesterton', 'shakespeare']\n",
          "output_type": "stream"
        }
      ],
      "execution_count": null
    },
    {
      "cell_type": "code",
      "source": [
        "# see some random samples of the dataset\n",
        "hf_dataset.to_pandas().head()\n",
        "\n",
        "sampled = hf_dataset.shuffle(seed=42).select(range(5))\n",
        "\n",
        "for example in sampled:\n",
        "    print(f\"Text:\\n{example['text'][:300]}...\\nLabel: {example['label']}\\n\")\n"
      ],
      "metadata": {
        "trusted": true,
        "execution": {
          "iopub.status.busy": "2025-07-28T23:48:32.75708Z",
          "iopub.execute_input": "2025-07-28T23:48:32.758527Z",
          "iopub.status.idle": "2025-07-28T23:48:32.794032Z",
          "shell.execute_reply.started": "2025-07-28T23:48:32.758491Z",
          "shell.execute_reply": "2025-07-28T23:48:32.793164Z"
        },
        "id": "xSS_ccPSb_uz",
        "outputId": "ff6e1f13-d3f4-4a5e-9ea0-b16d366b493a"
      },
      "outputs": [
        {
          "name": "stdout",
          "text": "Text:\nTo cut his throat i'th' Church Kin. No place indeed should murder Sancturize; Reuenge should haue no bounds: but good Laertes Will you doe this, keepe close within your Chamber, Hamlet return'd, shall know you are come home: Wee'l put on those shall praise your excellence, And set a double varnish o...\nLabel: 2\n\nText:\nBut perhaps there was something ostentatiously elegant about the languid figure of Seymour leaning against one of the looking-glasses that brought him up short at the entrance, turning his head this way and that like a bewildered bulldog. \"I must show this stupid man where to go,\" said Aurora in a w...\nLabel: 1\n\nText:\nthrough the window, but without getting off his horse; and though I told him how ill I was, not one of them have been near me. It did not happen to suit the Miss Musgroves, I suppose, and they never put themselves out of their way.\" \"You will see them yet, perhaps, before the morning is gone. It is ...\nLabel: 0\n\nText:\na more relenting heart than she possessed, or a heart more disposed to accept of his. He had, in fact, been wholly unsuspicious of his own influence. He had followed her into the shrubbery with no idea of trying it. He had come, in his anxiety to see how she bore Frank Churchill's engagement, with n...\nLabel: 0\n\nText:\na partial old friend.\" \"Such an eye!--the true hazle eye--and so brilliant! regular features, open countenance, with a complexion! oh! what a bloom of full health, and such a pretty height and size; such a firm and upright figure! There is health, not merely in her bloom, but in her air, her head, h...\nLabel: 0\n\n",
          "output_type": "stream"
        }
      ],
      "execution_count": null
    },
    {
      "cell_type": "markdown",
      "source": [
        "I am going to use roberta-base pre-trained model because BERT based models are designed for tasks that require understanding the relationships and representations within text.\n",
        "\n",
        "After comparing different models in this category, I prefered roberta-base because of the Best accuracy/performance balance.\n",
        "\n",
        "\n",
        "| Model                                          | Size | Pros                                   | Cons                              | Verdict                               |\n",
        "| ---------------------------------------------- | ---- | -------------------------------------- | --------------------------------- | ------------------------------------- |\n",
        "| **`roberta-base`**                             | 125M | Stronger than BERT, better pretraining | Slightly slower than DistilBERT   | Best accuracy/performance balance  |\n",
        "| **`distilbert-base-uncased`**                  | 66M  | Very fast, GPU-friendly, lower RAM use | Slightly lower accuracy than BERT | Great for quick iteration on Kaggle |\n",
        "| **`microsoft/deberta-v3-small`**               | 86M  | State-of-the-art for many tasks, small | Slightly slower to load           | Most powerful small model          |\n",
        "| `bert-base-uncased`                            | 110M | Standard, well-understood              | Not state-of-the-art anymore      | Still a solid baseline                |\n",
        "| `google/bert_uncased_L-4_H-256_A-4` (TinyBERT) | 14M  | Extremely small and fast               | Lower performance                 | Fastest, but less expressive       |\n"
      ],
      "metadata": {
        "id": "KjoxbOapb_u0"
      }
    },
    {
      "cell_type": "markdown",
      "source": [
        "I am also using roberta-base tokenizer from Hugging Face transformers for tokenization of dataset.\n"
      ],
      "metadata": {
        "id": "gtW447kJb_u0"
      }
    },
    {
      "cell_type": "code",
      "source": [
        "# Load the roberta-base tokenizer from Hugging Face transformers.\n",
        "from transformers import RobertaTokenizer\n",
        "\n",
        "tokenizer = RobertaTokenizer.from_pretrained(\"roberta-base\")\n",
        "\n",
        "def tokenize_function(row):\n",
        "    tokens = tokenizer(\n",
        "        row[\"text\"],\n",
        "        truncation=True,\n",
        "        padding='max_length',\n",
        "        max_length=512\n",
        "    )\n",
        "    tokens[\"label\"] = row[\"label\"]\n",
        "    return tokens\n",
        "\n",
        "\n",
        "tokenized_dataset = hf_dataset.map(tokenize_function, batched=True)\n",
        "tokenized_dataset[0] # For RoBERTa, the pad_token_id = 1. If text chunk is shorter than 512 tokens, the remaining positions are filled with 1"
      ],
      "metadata": {
        "trusted": true,
        "execution": {
          "iopub.status.busy": "2025-07-29T00:59:58.802477Z",
          "iopub.execute_input": "2025-07-29T00:59:58.803221Z",
          "iopub.status.idle": "2025-07-29T01:00:07.913989Z",
          "shell.execute_reply.started": "2025-07-29T00:59:58.803187Z",
          "shell.execute_reply": "2025-07-29T01:00:07.913098Z"
        },
        "collapsed": true,
        "jupyter": {
          "outputs_hidden": true
        },
        "id": "YtpjW79Yb_u0",
        "outputId": "dcb560e8-a33e-4225-e84a-7358ec1ff243",
        "colab": {
          "referenced_widgets": [
            "77c699f9969346798a150644e1c9a113",
            "51df18ed06dc4da38b4504a3205d8fc8",
            "21984af95f57461bb5ec9a9c97d2f94a",
            "0270684530404c1e962349d4315f3342",
            "5bf55bd806524062b44264d858c6b035",
            "8f0880c106e44d5b9bd6b2ac15f34937"
          ]
        }
      },
      "outputs": [
        {
          "output_type": "display_data",
          "data": {
            "text/plain": "tokenizer_config.json:   0%|          | 0.00/25.0 [00:00<?, ?B/s]",
            "application/vnd.jupyter.widget-view+json": {
              "version_major": 2,
              "version_minor": 0,
              "model_id": "77c699f9969346798a150644e1c9a113"
            }
          },
          "metadata": {}
        },
        {
          "output_type": "display_data",
          "data": {
            "text/plain": "vocab.json:   0%|          | 0.00/899k [00:00<?, ?B/s]",
            "application/vnd.jupyter.widget-view+json": {
              "version_major": 2,
              "version_minor": 0,
              "model_id": "51df18ed06dc4da38b4504a3205d8fc8"
            }
          },
          "metadata": {}
        },
        {
          "output_type": "display_data",
          "data": {
            "text/plain": "merges.txt:   0%|          | 0.00/456k [00:00<?, ?B/s]",
            "application/vnd.jupyter.widget-view+json": {
              "version_major": 2,
              "version_minor": 0,
              "model_id": "21984af95f57461bb5ec9a9c97d2f94a"
            }
          },
          "metadata": {}
        },
        {
          "output_type": "display_data",
          "data": {
            "text/plain": "tokenizer.json:   0%|          | 0.00/1.36M [00:00<?, ?B/s]",
            "application/vnd.jupyter.widget-view+json": {
              "version_major": 2,
              "version_minor": 0,
              "model_id": "0270684530404c1e962349d4315f3342"
            }
          },
          "metadata": {}
        },
        {
          "output_type": "display_data",
          "data": {
            "text/plain": "config.json:   0%|          | 0.00/481 [00:00<?, ?B/s]",
            "application/vnd.jupyter.widget-view+json": {
              "version_major": 2,
              "version_minor": 0,
              "model_id": "5bf55bd806524062b44264d858c6b035"
            }
          },
          "metadata": {}
        },
        {
          "output_type": "display_data",
          "data": {
            "text/plain": "Map:   0%|          | 0/4989 [00:00<?, ? examples/s]",
            "application/vnd.jupyter.widget-view+json": {
              "version_major": 2,
              "version_minor": 0,
              "model_id": "8f0880c106e44d5b9bd6b2ac15f34937"
            }
          },
          "metadata": {}
        },
        {
          "execution_count": 8,
          "output_type": "execute_result",
          "data": {
            "text/plain": "{'text': \"Emma Woodhouse, handsome, clever, and rich, with a comfortable home and happy disposition, seemed to unite some of the best blessings of existence; and had lived nearly twenty-one years in the world with very little to distress or vex her. She was the youngest of the two daughters of a most affectionate, indulgent father; and had, in consequence of her sister's marriage, been mistress of his house from a very early period. Her mother had died too long ago for her to have more than an indistinct remembrance of her caresses; and her place had been supplied by an excellent woman as governess, who had fallen little short of a mother in affection. Sixteen years had Miss Taylor been in Mr. Woodhouse's family, less as a governess than\",\n 'label': 0,\n 'input_ids': [0,\n  16750,\n  1916,\n  3132,\n  3138,\n  6,\n  19222,\n  6,\n  13074,\n  6,\n  8,\n  4066,\n  6,\n  19,\n  10,\n  3473,\n  184,\n  8,\n  1372,\n  31779,\n  6,\n  2551,\n  7,\n  17013,\n  103,\n  9,\n  5,\n  275,\n  27481,\n  9,\n  8066,\n  131,\n  8,\n  56,\n  3033,\n  823,\n  10328,\n  12,\n  1264,\n  107,\n  11,\n  5,\n  232,\n  19,\n  182,\n  410,\n  7,\n  13250,\n  50,\n  37894,\n  69,\n  4,\n  264,\n  21,\n  5,\n  8733,\n  9,\n  5,\n  80,\n  7172,\n  9,\n  10,\n  144,\n  15955,\n  877,\n  6,\n  20121,\n  13907,\n  1150,\n  131,\n  8,\n  56,\n  6,\n  11,\n  15180,\n  9,\n  69,\n  2761,\n  18,\n  3397,\n  6,\n  57,\n  38293,\n  9,\n  39,\n  790,\n  31,\n  10,\n  182,\n  419,\n  675,\n  4,\n  1405,\n  985,\n  56,\n  962,\n  350,\n  251,\n  536,\n  13,\n  69,\n  7,\n  33,\n  55,\n  87,\n  41,\n  48118,\n  24115,\n  30611,\n  9,\n  69,\n  6056,\n  13937,\n  131,\n  8,\n  69,\n  317,\n  56,\n  57,\n  12359,\n  30,\n  41,\n  4206,\n  693,\n  25,\n  11738,\n  3361,\n  6,\n  54,\n  56,\n  4491,\n  410,\n  765,\n  9,\n  10,\n  985,\n  11,\n  15955,\n  4,\n  5310,\n  13665,\n  107,\n  56,\n  4523,\n  2657,\n  57,\n  11,\n  427,\n  4,\n  3132,\n  3138,\n  18,\n  284,\n  6,\n  540,\n  25,\n  10,\n  11738,\n  3361,\n  87,\n  2,\n  1,\n  1,\n  1,\n  1,\n  1,\n  1,\n  1,\n  1,\n  1,\n  1,\n  1,\n  1,\n  1,\n  1,\n  1,\n  1,\n  1,\n  1,\n  1,\n  1,\n  1,\n  1,\n  1,\n  1,\n  1,\n  1,\n  1,\n  1,\n  1,\n  1,\n  1,\n  1,\n  1,\n  1,\n  1,\n  1,\n  1,\n  1,\n  1,\n  1,\n  1,\n  1,\n  1,\n  1,\n  1,\n  1,\n  1,\n  1,\n  1,\n  1,\n  1,\n  1,\n  1,\n  1,\n  1,\n  1,\n  1,\n  1,\n  1,\n  1,\n  1,\n  1,\n  1,\n  1,\n  1,\n  1,\n  1,\n  1,\n  1,\n  1,\n  1,\n  1,\n  1,\n  1,\n  1,\n  1,\n  1,\n  1,\n  1,\n  1,\n  1,\n  1,\n  1,\n  1,\n  1,\n  1,\n  1,\n  1,\n  1,\n  1,\n  1,\n  1,\n  1,\n  1,\n  1,\n  1,\n  1,\n  1,\n  1,\n  1,\n  1,\n  1,\n  1,\n  1,\n  1,\n  1,\n  1,\n  1,\n  1,\n  1,\n  1,\n  1,\n  1,\n  1,\n  1,\n  1,\n  1,\n  1,\n  1,\n  1,\n  1,\n  1,\n  1,\n  1,\n  1,\n  1,\n  1,\n  1,\n  1,\n  1,\n  1,\n  1,\n  1,\n  1,\n  1,\n  1,\n  1,\n  1,\n  1,\n  1,\n  1,\n  1,\n  1,\n  1,\n  1,\n  1,\n  1,\n  1,\n  1,\n  1,\n  1,\n  1,\n  1,\n  1,\n  1,\n  1,\n  1,\n  1,\n  1,\n  1,\n  1,\n  1,\n  1,\n  1,\n  1,\n  1,\n  1,\n  1,\n  1,\n  1,\n  1,\n  1,\n  1,\n  1,\n  1,\n  1,\n  1,\n  1,\n  1,\n  1,\n  1,\n  1,\n  1,\n  1,\n  1,\n  1,\n  1,\n  1,\n  1,\n  1,\n  1,\n  1,\n  1,\n  1,\n  1,\n  1,\n  1,\n  1,\n  1,\n  1,\n  1,\n  1,\n  1,\n  1,\n  1,\n  1,\n  1,\n  1,\n  1,\n  1,\n  1,\n  1,\n  1,\n  1,\n  1,\n  1,\n  1,\n  1,\n  1,\n  1,\n  1,\n  1,\n  1,\n  1,\n  1,\n  1,\n  1,\n  1,\n  1,\n  1,\n  1,\n  1,\n  1,\n  1,\n  1,\n  1,\n  1,\n  1,\n  1,\n  1,\n  1,\n  1,\n  1,\n  1,\n  1,\n  1,\n  1,\n  1,\n  1,\n  1,\n  1,\n  1,\n  1,\n  1,\n  1,\n  1,\n  1,\n  1,\n  1,\n  1,\n  1,\n  1,\n  1,\n  1,\n  1,\n  1,\n  1,\n  1,\n  1,\n  1,\n  1,\n  1,\n  1,\n  1,\n  1,\n  1,\n  1,\n  1,\n  1,\n  1,\n  1,\n  1,\n  1,\n  1,\n  1,\n  1,\n  1,\n  1,\n  1,\n  1,\n  1,\n  1,\n  1,\n  1,\n  1,\n  1,\n  1,\n  1,\n  1,\n  1,\n  1,\n  1,\n  1,\n  1,\n  1,\n  1,\n  1,\n  1,\n  1,\n  1,\n  1,\n  1,\n  1,\n  1,\n  1,\n  1,\n  1,\n  1,\n  1,\n  1,\n  1,\n  1,\n  1,\n  1,\n  1,\n  1,\n  1,\n  1,\n  1,\n  1,\n  1,\n  1,\n  1,\n  1,\n  1,\n  1,\n  1,\n  1,\n  1,\n  1,\n  1,\n  1,\n  1,\n  1,\n  1,\n  1,\n  1,\n  1,\n  1,\n  1,\n  1],\n 'attention_mask': [1,\n  1,\n  1,\n  1,\n  1,\n  1,\n  1,\n  1,\n  1,\n  1,\n  1,\n  1,\n  1,\n  1,\n  1,\n  1,\n  1,\n  1,\n  1,\n  1,\n  1,\n  1,\n  1,\n  1,\n  1,\n  1,\n  1,\n  1,\n  1,\n  1,\n  1,\n  1,\n  1,\n  1,\n  1,\n  1,\n  1,\n  1,\n  1,\n  1,\n  1,\n  1,\n  1,\n  1,\n  1,\n  1,\n  1,\n  1,\n  1,\n  1,\n  1,\n  1,\n  1,\n  1,\n  1,\n  1,\n  1,\n  1,\n  1,\n  1,\n  1,\n  1,\n  1,\n  1,\n  1,\n  1,\n  1,\n  1,\n  1,\n  1,\n  1,\n  1,\n  1,\n  1,\n  1,\n  1,\n  1,\n  1,\n  1,\n  1,\n  1,\n  1,\n  1,\n  1,\n  1,\n  1,\n  1,\n  1,\n  1,\n  1,\n  1,\n  1,\n  1,\n  1,\n  1,\n  1,\n  1,\n  1,\n  1,\n  1,\n  1,\n  1,\n  1,\n  1,\n  1,\n  1,\n  1,\n  1,\n  1,\n  1,\n  1,\n  1,\n  1,\n  1,\n  1,\n  1,\n  1,\n  1,\n  1,\n  1,\n  1,\n  1,\n  1,\n  1,\n  1,\n  1,\n  1,\n  1,\n  1,\n  1,\n  1,\n  1,\n  1,\n  1,\n  1,\n  1,\n  1,\n  1,\n  1,\n  1,\n  1,\n  1,\n  1,\n  1,\n  1,\n  1,\n  1,\n  1,\n  1,\n  1,\n  1,\n  1,\n  1,\n  1,\n  1,\n  1,\n  1,\n  1,\n  1,\n  1,\n  1,\n  0,\n  0,\n  0,\n  0,\n  0,\n  0,\n  0,\n  0,\n  0,\n  0,\n  0,\n  0,\n  0,\n  0,\n  0,\n  0,\n  0,\n  0,\n  0,\n  0,\n  0,\n  0,\n  0,\n  0,\n  0,\n  0,\n  0,\n  0,\n  0,\n  0,\n  0,\n  0,\n  0,\n  0,\n  0,\n  0,\n  0,\n  0,\n  0,\n  0,\n  0,\n  0,\n  0,\n  0,\n  0,\n  0,\n  0,\n  0,\n  0,\n  0,\n  0,\n  0,\n  0,\n  0,\n  0,\n  0,\n  0,\n  0,\n  0,\n  0,\n  0,\n  0,\n  0,\n  0,\n  0,\n  0,\n  0,\n  0,\n  0,\n  0,\n  0,\n  0,\n  0,\n  0,\n  0,\n  0,\n  0,\n  0,\n  0,\n  0,\n  0,\n  0,\n  0,\n  0,\n  0,\n  0,\n  0,\n  0,\n  0,\n  0,\n  0,\n  0,\n  0,\n  0,\n  0,\n  0,\n  0,\n  0,\n  0,\n  0,\n  0,\n  0,\n  0,\n  0,\n  0,\n  0,\n  0,\n  0,\n  0,\n  0,\n  0,\n  0,\n  0,\n  0,\n  0,\n  0,\n  0,\n  0,\n  0,\n  0,\n  0,\n  0,\n  0,\n  0,\n  0,\n  0,\n  0,\n  0,\n  0,\n  0,\n  0,\n  0,\n  0,\n  0,\n  0,\n  0,\n  0,\n  0,\n  0,\n  0,\n  0,\n  0,\n  0,\n  0,\n  0,\n  0,\n  0,\n  0,\n  0,\n  0,\n  0,\n  0,\n  0,\n  0,\n  0,\n  0,\n  0,\n  0,\n  0,\n  0,\n  0,\n  0,\n  0,\n  0,\n  0,\n  0,\n  0,\n  0,\n  0,\n  0,\n  0,\n  0,\n  0,\n  0,\n  0,\n  0,\n  0,\n  0,\n  0,\n  0,\n  0,\n  0,\n  0,\n  0,\n  0,\n  0,\n  0,\n  0,\n  0,\n  0,\n  0,\n  0,\n  0,\n  0,\n  0,\n  0,\n  0,\n  0,\n  0,\n  0,\n  0,\n  0,\n  0,\n  0,\n  0,\n  0,\n  0,\n  0,\n  0,\n  0,\n  0,\n  0,\n  0,\n  0,\n  0,\n  0,\n  0,\n  0,\n  0,\n  0,\n  0,\n  0,\n  0,\n  0,\n  0,\n  0,\n  0,\n  0,\n  0,\n  0,\n  0,\n  0,\n  0,\n  0,\n  0,\n  0,\n  0,\n  0,\n  0,\n  0,\n  0,\n  0,\n  0,\n  0,\n  0,\n  0,\n  0,\n  0,\n  0,\n  0,\n  0,\n  0,\n  0,\n  0,\n  0,\n  0,\n  0,\n  0,\n  0,\n  0,\n  0,\n  0,\n  0,\n  0,\n  0,\n  0,\n  0,\n  0,\n  0,\n  0,\n  0,\n  0,\n  0,\n  0,\n  0,\n  0,\n  0,\n  0,\n  0,\n  0,\n  0,\n  0,\n  0,\n  0,\n  0,\n  0,\n  0,\n  0,\n  0,\n  0,\n  0,\n  0,\n  0,\n  0,\n  0,\n  0,\n  0,\n  0,\n  0,\n  0,\n  0,\n  0,\n  0,\n  0,\n  0,\n  0,\n  0,\n  0,\n  0,\n  0,\n  0,\n  0,\n  0,\n  0,\n  0,\n  0,\n  0,\n  0,\n  0,\n  0,\n  0,\n  0,\n  0,\n  0,\n  0,\n  0,\n  0,\n  0,\n  0,\n  0,\n  0,\n  0,\n  0,\n  0,\n  0,\n  0,\n  0,\n  0,\n  0,\n  0,\n  0,\n  0,\n  0,\n  0,\n  0,\n  0,\n  0,\n  0,\n  0,\n  0,\n  0]}"
          },
          "metadata": {}
        }
      ],
      "execution_count": null
    },
    {
      "cell_type": "code",
      "source": [
        "# decoding the tokens\n",
        "print(\"Decoded tokens:\")\n",
        "print(tokenizer.convert_ids_to_tokens(tokenized_dataset[0]['input_ids']))\n",
        "\n",
        "print(\"Pad token:\", tokenizer.pad_token, \"with ID:\", tokenizer.pad_token_id)"
      ],
      "metadata": {
        "trusted": true,
        "execution": {
          "iopub.status.busy": "2025-07-28T22:19:04.81116Z",
          "iopub.execute_input": "2025-07-28T22:19:04.811979Z",
          "iopub.status.idle": "2025-07-28T22:19:04.818189Z",
          "shell.execute_reply.started": "2025-07-28T22:19:04.811952Z",
          "shell.execute_reply": "2025-07-28T22:19:04.817445Z"
        },
        "id": "YtAfW9Urb_u0",
        "outputId": "7516ae45-e152-474b-b14f-7abbc7a155bd"
      },
      "outputs": [
        {
          "name": "stdout",
          "text": "Decoded tokens:\n['<s>', 'Em', 'ma', 'ĠWood', 'house', ',', 'Ġhandsome', ',', 'Ġclever', ',', 'Ġand', 'Ġrich', ',', 'Ġwith', 'Ġa', 'Ġcomfortable', 'Ġhome', 'Ġand', 'Ġhappy', 'Ġdisposition', ',', 'Ġseemed', 'Ġto', 'Ġunite', 'Ġsome', 'Ġof', 'Ġthe', 'Ġbest', 'Ġblessings', 'Ġof', 'Ġexistence', ';', 'Ġand', 'Ġhad', 'Ġlived', 'Ġnearly', 'Ġtwenty', '-', 'one', 'Ġyears', 'Ġin', 'Ġthe', 'Ġworld', 'Ġwith', 'Ġvery', 'Ġlittle', 'Ġto', 'Ġdistress', 'Ġor', 'Ġvex', 'Ġher', '.', 'ĠShe', 'Ġwas', 'Ġthe', 'Ġyoungest', 'Ġof', 'Ġthe', 'Ġtwo', 'Ġdaughters', 'Ġof', 'Ġa', 'Ġmost', 'Ġaffection', 'ate', ',', 'Ġindul', 'gent', 'Ġfather', ';', 'Ġand', 'Ġhad', ',', 'Ġin', 'Ġconsequence', 'Ġof', 'Ġher', 'Ġsister', \"'s\", 'Ġmarriage', ',', 'Ġbeen', 'Ġmistress', 'Ġof', 'Ġhis', 'Ġhouse', 'Ġfrom', 'Ġa', 'Ġvery', 'Ġearly', 'Ġperiod', '.', 'ĠHer', 'Ġmother', 'Ġhad', 'Ġdied', 'Ġtoo', 'Ġlong', 'Ġago', 'Ġfor', 'Ġher', 'Ġto', 'Ġhave', 'Ġmore', 'Ġthan', 'Ġan', 'Ġindist', 'inct', 'Ġremembrance', 'Ġof', 'Ġher', 'Ġca', 'resses', ';', 'Ġand', 'Ġher', 'Ġplace', 'Ġhad', 'Ġbeen', 'Ġsupplied', 'Ġby', 'Ġan', 'Ġexcellent', 'Ġwoman', 'Ġas', 'Ġgovern', 'ess', ',', 'Ġwho', 'Ġhad', 'Ġfallen', 'Ġlittle', 'Ġshort', 'Ġof', 'Ġa', 'Ġmother', 'Ġin', 'Ġaffection', '.', 'ĠSix', 'teen', 'Ġyears', 'Ġhad', 'ĠMiss', 'ĠTaylor', 'Ġbeen', 'Ġin', 'ĠMr', '.', 'ĠWood', 'house', \"'s\", 'Ġfamily', ',', 'Ġless', 'Ġas', 'Ġa', 'Ġgovern', 'ess', 'Ġthan', '</s>', '<pad>', '<pad>', '<pad>', '<pad>', '<pad>', '<pad>', '<pad>', '<pad>', '<pad>', '<pad>', '<pad>', '<pad>', '<pad>', '<pad>', '<pad>', '<pad>', '<pad>', '<pad>', '<pad>', '<pad>', '<pad>', '<pad>', '<pad>', '<pad>', '<pad>', '<pad>', '<pad>', '<pad>', '<pad>', '<pad>', '<pad>', '<pad>', '<pad>', '<pad>', '<pad>', '<pad>', '<pad>', '<pad>', '<pad>', '<pad>', '<pad>', '<pad>', '<pad>', '<pad>', '<pad>', '<pad>', '<pad>', '<pad>', '<pad>', '<pad>', '<pad>', '<pad>', '<pad>', '<pad>', '<pad>', '<pad>', '<pad>', '<pad>', '<pad>', '<pad>', '<pad>', '<pad>', '<pad>', '<pad>', '<pad>', '<pad>', '<pad>', '<pad>', '<pad>', '<pad>', '<pad>', '<pad>', '<pad>', '<pad>', '<pad>', '<pad>', '<pad>', '<pad>', '<pad>', '<pad>', '<pad>', '<pad>', '<pad>', '<pad>', '<pad>', '<pad>', '<pad>', '<pad>', '<pad>', '<pad>', '<pad>', '<pad>', '<pad>', '<pad>', '<pad>', '<pad>', '<pad>', '<pad>', '<pad>', '<pad>', '<pad>', '<pad>', '<pad>', '<pad>', '<pad>', '<pad>', '<pad>', '<pad>', '<pad>', '<pad>', '<pad>', '<pad>', '<pad>', '<pad>', '<pad>', '<pad>', '<pad>', '<pad>', '<pad>', '<pad>', '<pad>', '<pad>', '<pad>', '<pad>', '<pad>', '<pad>', '<pad>', '<pad>', '<pad>', '<pad>', '<pad>', '<pad>', '<pad>', '<pad>', '<pad>', '<pad>', '<pad>', '<pad>', '<pad>', '<pad>', '<pad>', '<pad>', '<pad>', '<pad>', '<pad>', '<pad>', '<pad>', '<pad>', '<pad>', '<pad>', '<pad>', '<pad>', '<pad>', '<pad>', '<pad>', '<pad>', '<pad>', '<pad>', '<pad>', '<pad>', '<pad>', '<pad>', '<pad>', '<pad>', '<pad>', '<pad>', '<pad>', '<pad>', '<pad>', '<pad>', '<pad>', '<pad>', '<pad>', '<pad>', '<pad>', '<pad>', '<pad>', '<pad>', '<pad>', '<pad>', '<pad>', '<pad>', '<pad>', '<pad>', '<pad>', '<pad>', '<pad>', '<pad>', '<pad>', '<pad>', '<pad>', '<pad>', '<pad>', '<pad>', '<pad>', '<pad>', '<pad>', '<pad>', '<pad>', '<pad>', '<pad>', '<pad>', '<pad>', '<pad>', '<pad>', '<pad>', '<pad>', '<pad>', '<pad>', '<pad>', '<pad>', '<pad>', '<pad>', '<pad>', '<pad>', '<pad>', '<pad>', '<pad>', '<pad>', '<pad>', '<pad>', '<pad>', '<pad>', '<pad>', '<pad>', '<pad>', '<pad>', '<pad>', '<pad>', '<pad>', '<pad>', '<pad>', '<pad>', '<pad>', '<pad>', '<pad>', '<pad>', '<pad>', '<pad>', '<pad>', '<pad>', '<pad>', '<pad>', '<pad>', '<pad>', '<pad>', '<pad>', '<pad>', '<pad>', '<pad>', '<pad>', '<pad>', '<pad>', '<pad>', '<pad>', '<pad>', '<pad>', '<pad>', '<pad>', '<pad>', '<pad>', '<pad>', '<pad>', '<pad>', '<pad>', '<pad>', '<pad>', '<pad>', '<pad>', '<pad>', '<pad>', '<pad>', '<pad>', '<pad>', '<pad>', '<pad>', '<pad>', '<pad>', '<pad>', '<pad>', '<pad>', '<pad>', '<pad>', '<pad>', '<pad>', '<pad>', '<pad>', '<pad>', '<pad>', '<pad>', '<pad>', '<pad>', '<pad>', '<pad>', '<pad>', '<pad>', '<pad>', '<pad>', '<pad>', '<pad>', '<pad>', '<pad>', '<pad>', '<pad>', '<pad>', '<pad>', '<pad>', '<pad>', '<pad>', '<pad>', '<pad>', '<pad>', '<pad>', '<pad>', '<pad>', '<pad>', '<pad>', '<pad>', '<pad>', '<pad>', '<pad>', '<pad>', '<pad>', '<pad>', '<pad>', '<pad>', '<pad>', '<pad>', '<pad>', '<pad>', '<pad>', '<pad>', '<pad>', '<pad>', '<pad>', '<pad>', '<pad>', '<pad>', '<pad>', '<pad>', '<pad>', '<pad>', '<pad>', '<pad>', '<pad>', '<pad>', '<pad>', '<pad>', '<pad>', '<pad>', '<pad>']\nPad token: <pad> with ID: 1\n",
          "output_type": "stream"
        }
      ],
      "execution_count": null
    },
    {
      "cell_type": "code",
      "source": [
        "# Second approach: Tokenize without padding\n",
        "\n",
        "from transformers import RobertaTokenizer\n",
        "\n",
        "tokenizer = RobertaTokenizer.from_pretrained(\"roberta-base\")\n",
        "\n",
        "def tokenize_function(row):        # adds 'input_ids', 'attention_mask' to our dataset\n",
        "    tokens = tokenizer(\n",
        "        row[\"text\"],\n",
        "        truncation=True,\n",
        "#        padding='max_length',   Tokenize without padding instead I will use DataCollatorWithPadding to pad dynamically per batch which is significantly more efficient\n",
        "        max_length=512\n",
        "    )\n",
        "    tokens[\"label\"] = row[\"label\"]\n",
        "    return tokens\n",
        "\n",
        "\n",
        "tokenized_dataset = hf_dataset.map(tokenize_function, batched=True)\n",
        "tokenized_dataset[0]"
      ],
      "metadata": {
        "trusted": true,
        "execution": {
          "iopub.status.busy": "2025-08-07T13:43:21.421631Z",
          "iopub.execute_input": "2025-08-07T13:43:21.422032Z",
          "iopub.status.idle": "2025-08-07T13:43:40.532218Z",
          "shell.execute_reply.started": "2025-08-07T13:43:21.42201Z",
          "shell.execute_reply": "2025-08-07T13:43:40.531591Z"
        },
        "collapsed": true,
        "jupyter": {
          "outputs_hidden": true
        },
        "id": "IhOmQ5Sob_u0",
        "outputId": "a457586b-03f9-45fb-a91b-e92ad4e6a00f",
        "colab": {
          "referenced_widgets": [
            "158ca54625e94fe9ab27fb2408e03ddb",
            "4870481ff1ab4f00ba8e7b606cc4862e",
            "dfe16e6c5a5d48939fc0ae33d6758883",
            "936ee3af9f39489e9d743919d815a0b9",
            "3532400a70234a1c934f1b1fe9feb76c",
            "9fb60b214da74d5eb06a9c11766a1c12"
          ]
        }
      },
      "outputs": [
        {
          "output_type": "display_data",
          "data": {
            "text/plain": "tokenizer_config.json:   0%|          | 0.00/25.0 [00:00<?, ?B/s]",
            "application/vnd.jupyter.widget-view+json": {
              "version_major": 2,
              "version_minor": 0,
              "model_id": "158ca54625e94fe9ab27fb2408e03ddb"
            }
          },
          "metadata": {}
        },
        {
          "output_type": "display_data",
          "data": {
            "text/plain": "vocab.json:   0%|          | 0.00/899k [00:00<?, ?B/s]",
            "application/vnd.jupyter.widget-view+json": {
              "version_major": 2,
              "version_minor": 0,
              "model_id": "4870481ff1ab4f00ba8e7b606cc4862e"
            }
          },
          "metadata": {}
        },
        {
          "output_type": "display_data",
          "data": {
            "text/plain": "merges.txt:   0%|          | 0.00/456k [00:00<?, ?B/s]",
            "application/vnd.jupyter.widget-view+json": {
              "version_major": 2,
              "version_minor": 0,
              "model_id": "dfe16e6c5a5d48939fc0ae33d6758883"
            }
          },
          "metadata": {}
        },
        {
          "output_type": "display_data",
          "data": {
            "text/plain": "tokenizer.json:   0%|          | 0.00/1.36M [00:00<?, ?B/s]",
            "application/vnd.jupyter.widget-view+json": {
              "version_major": 2,
              "version_minor": 0,
              "model_id": "936ee3af9f39489e9d743919d815a0b9"
            }
          },
          "metadata": {}
        },
        {
          "output_type": "display_data",
          "data": {
            "text/plain": "config.json:   0%|          | 0.00/481 [00:00<?, ?B/s]",
            "application/vnd.jupyter.widget-view+json": {
              "version_major": 2,
              "version_minor": 0,
              "model_id": "3532400a70234a1c934f1b1fe9feb76c"
            }
          },
          "metadata": {}
        },
        {
          "output_type": "display_data",
          "data": {
            "text/plain": "Map:   0%|          | 0/4989 [00:00<?, ? examples/s]",
            "application/vnd.jupyter.widget-view+json": {
              "version_major": 2,
              "version_minor": 0,
              "model_id": "9fb60b214da74d5eb06a9c11766a1c12"
            }
          },
          "metadata": {}
        },
        {
          "execution_count": 8,
          "output_type": "execute_result",
          "data": {
            "text/plain": "{'text': \"Emma Woodhouse, handsome, clever, and rich, with a comfortable home and happy disposition, seemed to unite some of the best blessings of existence; and had lived nearly twenty-one years in the world with very little to distress or vex her. She was the youngest of the two daughters of a most affectionate, indulgent father; and had, in consequence of her sister's marriage, been mistress of his house from a very early period. Her mother had died too long ago for her to have more than an indistinct remembrance of her caresses; and her place had been supplied by an excellent woman as governess, who had fallen little short of a mother in affection. Sixteen years had Miss Taylor been in Mr. Woodhouse's family, less as a governess than\",\n 'label': 0,\n 'input_ids': [0,\n  16750,\n  1916,\n  3132,\n  3138,\n  6,\n  19222,\n  6,\n  13074,\n  6,\n  8,\n  4066,\n  6,\n  19,\n  10,\n  3473,\n  184,\n  8,\n  1372,\n  31779,\n  6,\n  2551,\n  7,\n  17013,\n  103,\n  9,\n  5,\n  275,\n  27481,\n  9,\n  8066,\n  131,\n  8,\n  56,\n  3033,\n  823,\n  10328,\n  12,\n  1264,\n  107,\n  11,\n  5,\n  232,\n  19,\n  182,\n  410,\n  7,\n  13250,\n  50,\n  37894,\n  69,\n  4,\n  264,\n  21,\n  5,\n  8733,\n  9,\n  5,\n  80,\n  7172,\n  9,\n  10,\n  144,\n  15955,\n  877,\n  6,\n  20121,\n  13907,\n  1150,\n  131,\n  8,\n  56,\n  6,\n  11,\n  15180,\n  9,\n  69,\n  2761,\n  18,\n  3397,\n  6,\n  57,\n  38293,\n  9,\n  39,\n  790,\n  31,\n  10,\n  182,\n  419,\n  675,\n  4,\n  1405,\n  985,\n  56,\n  962,\n  350,\n  251,\n  536,\n  13,\n  69,\n  7,\n  33,\n  55,\n  87,\n  41,\n  48118,\n  24115,\n  30611,\n  9,\n  69,\n  6056,\n  13937,\n  131,\n  8,\n  69,\n  317,\n  56,\n  57,\n  12359,\n  30,\n  41,\n  4206,\n  693,\n  25,\n  11738,\n  3361,\n  6,\n  54,\n  56,\n  4491,\n  410,\n  765,\n  9,\n  10,\n  985,\n  11,\n  15955,\n  4,\n  5310,\n  13665,\n  107,\n  56,\n  4523,\n  2657,\n  57,\n  11,\n  427,\n  4,\n  3132,\n  3138,\n  18,\n  284,\n  6,\n  540,\n  25,\n  10,\n  11738,\n  3361,\n  87,\n  2],\n 'attention_mask': [1,\n  1,\n  1,\n  1,\n  1,\n  1,\n  1,\n  1,\n  1,\n  1,\n  1,\n  1,\n  1,\n  1,\n  1,\n  1,\n  1,\n  1,\n  1,\n  1,\n  1,\n  1,\n  1,\n  1,\n  1,\n  1,\n  1,\n  1,\n  1,\n  1,\n  1,\n  1,\n  1,\n  1,\n  1,\n  1,\n  1,\n  1,\n  1,\n  1,\n  1,\n  1,\n  1,\n  1,\n  1,\n  1,\n  1,\n  1,\n  1,\n  1,\n  1,\n  1,\n  1,\n  1,\n  1,\n  1,\n  1,\n  1,\n  1,\n  1,\n  1,\n  1,\n  1,\n  1,\n  1,\n  1,\n  1,\n  1,\n  1,\n  1,\n  1,\n  1,\n  1,\n  1,\n  1,\n  1,\n  1,\n  1,\n  1,\n  1,\n  1,\n  1,\n  1,\n  1,\n  1,\n  1,\n  1,\n  1,\n  1,\n  1,\n  1,\n  1,\n  1,\n  1,\n  1,\n  1,\n  1,\n  1,\n  1,\n  1,\n  1,\n  1,\n  1,\n  1,\n  1,\n  1,\n  1,\n  1,\n  1,\n  1,\n  1,\n  1,\n  1,\n  1,\n  1,\n  1,\n  1,\n  1,\n  1,\n  1,\n  1,\n  1,\n  1,\n  1,\n  1,\n  1,\n  1,\n  1,\n  1,\n  1,\n  1,\n  1,\n  1,\n  1,\n  1,\n  1,\n  1,\n  1,\n  1,\n  1,\n  1,\n  1,\n  1,\n  1,\n  1,\n  1,\n  1,\n  1,\n  1,\n  1,\n  1,\n  1,\n  1,\n  1,\n  1,\n  1,\n  1,\n  1,\n  1,\n  1,\n  1]}"
          },
          "metadata": {}
        }
      ],
      "execution_count": null
    },
    {
      "cell_type": "code",
      "source": [
        "len(tokenized_dataset)"
      ],
      "metadata": {
        "trusted": true,
        "execution": {
          "iopub.status.busy": "2025-07-29T01:00:56.955776Z",
          "iopub.execute_input": "2025-07-29T01:00:56.956389Z",
          "iopub.status.idle": "2025-07-29T01:00:56.960929Z",
          "shell.execute_reply.started": "2025-07-29T01:00:56.956364Z",
          "shell.execute_reply": "2025-07-29T01:00:56.96029Z"
        },
        "id": "oFD3GFoTb_u0",
        "outputId": "7b5433dd-75d2-4f5e-c7ef-dc30ab466025"
      },
      "outputs": [
        {
          "execution_count": 10,
          "output_type": "execute_result",
          "data": {
            "text/plain": "4989"
          },
          "metadata": {}
        }
      ],
      "execution_count": null
    },
    {
      "cell_type": "code",
      "source": [
        "tokenized_dataset.shape"
      ],
      "metadata": {
        "trusted": true,
        "execution": {
          "iopub.status.busy": "2025-07-28T22:33:59.091175Z",
          "iopub.execute_input": "2025-07-28T22:33:59.091474Z",
          "iopub.status.idle": "2025-07-28T22:33:59.096589Z",
          "shell.execute_reply.started": "2025-07-28T22:33:59.091452Z",
          "shell.execute_reply": "2025-07-28T22:33:59.095853Z"
        },
        "id": "n1uVWqsyb_u0",
        "outputId": "9c9f6038-9c38-47a5-df67-1df1064ab1ec"
      },
      "outputs": [
        {
          "execution_count": 21,
          "output_type": "execute_result",
          "data": {
            "text/plain": "(4989, 4)"
          },
          "metadata": {}
        }
      ],
      "execution_count": null
    },
    {
      "cell_type": "code",
      "source": [
        "tokenized_dataset.column_names\n"
      ],
      "metadata": {
        "trusted": true,
        "execution": {
          "iopub.status.busy": "2025-07-28T22:35:48.415166Z",
          "iopub.execute_input": "2025-07-28T22:35:48.415474Z",
          "iopub.status.idle": "2025-07-28T22:35:48.420502Z",
          "shell.execute_reply.started": "2025-07-28T22:35:48.415452Z",
          "shell.execute_reply": "2025-07-28T22:35:48.419881Z"
        },
        "id": "FzYaMrJub_u0",
        "outputId": "696d3a60-9b57-4dc0-f0a5-80dd34a7bada"
      },
      "outputs": [
        {
          "execution_count": 24,
          "output_type": "execute_result",
          "data": {
            "text/plain": "['text', 'label', 'input_ids', 'attention_mask']"
          },
          "metadata": {}
        }
      ],
      "execution_count": null
    },
    {
      "cell_type": "code",
      "source": [
        "chunked_df.shape"
      ],
      "metadata": {
        "trusted": true,
        "execution": {
          "iopub.status.busy": "2025-07-28T22:33:10.750664Z",
          "iopub.execute_input": "2025-07-28T22:33:10.751073Z",
          "iopub.status.idle": "2025-07-28T22:33:10.757312Z",
          "shell.execute_reply.started": "2025-07-28T22:33:10.751049Z",
          "shell.execute_reply": "2025-07-28T22:33:10.756513Z"
        },
        "id": "pbF_CkdQb_u0",
        "outputId": "634bc7ed-25eb-429f-8151-d2d55d7a4a8c"
      },
      "outputs": [
        {
          "execution_count": 20,
          "output_type": "execute_result",
          "data": {
            "text/plain": "(4989, 3)"
          },
          "metadata": {}
        }
      ],
      "execution_count": null
    },
    {
      "cell_type": "code",
      "source": [
        "tokenized_dataset.features\n",
        "# length=-1 means variable-length sequences, since we are using dynamic padding with a DataCollatorWithPadding"
      ],
      "metadata": {
        "trusted": true,
        "execution": {
          "iopub.status.busy": "2025-07-28T22:36:27.972323Z",
          "iopub.execute_input": "2025-07-28T22:36:27.972625Z",
          "iopub.status.idle": "2025-07-28T22:36:27.978557Z",
          "shell.execute_reply.started": "2025-07-28T22:36:27.972603Z",
          "shell.execute_reply": "2025-07-28T22:36:27.97781Z"
        },
        "id": "LR25VjROb_u0",
        "outputId": "64ac9516-5c92-4f5d-97c8-ac9c03fb9613"
      },
      "outputs": [
        {
          "execution_count": 25,
          "output_type": "execute_result",
          "data": {
            "text/plain": "{'text': Value(dtype='string', id=None),\n 'label': Value(dtype='int64', id=None),\n 'input_ids': Sequence(feature=Value(dtype='int32', id=None), length=-1, id=None),\n 'attention_mask': Sequence(feature=Value(dtype='int8', id=None), length=-1, id=None)}"
          },
          "metadata": {}
        }
      ],
      "execution_count": null
    },
    {
      "cell_type": "markdown",
      "source": [
        "# Splitting Hugging Face Dataset\n",
        "\n",
        "Using Hugging Face's built-in split"
      ],
      "metadata": {
        "id": "8_NtPR9hb_u0"
      }
    },
    {
      "cell_type": "code",
      "source": [
        "# First split: 80% train, 20% temp (val + test)\n",
        "train_test_split = tokenized_dataset.train_test_split(test_size=0.2, seed=42)\n",
        "\n",
        "train_dataset = train_test_split[\"train\"]\n",
        "temp_dataset = train_test_split[\"test\"]\n",
        "\n",
        "# Second split: temp into 50% val, 50% test\n",
        "val_test_split = temp_dataset.train_test_split(test_size=0.5, seed=42)\n",
        "\n",
        "val_dataset = val_test_split[\"train\"]\n",
        "test_dataset = val_test_split[\"test\"]\n",
        "\n",
        "print(\"Train size:\", len(train_dataset))\n",
        "print(\"Validation size:\", len(val_dataset))\n",
        "print(\"Test size:\", len(test_dataset))\n"
      ],
      "metadata": {
        "trusted": true,
        "execution": {
          "iopub.status.busy": "2025-08-07T13:43:40.533452Z",
          "iopub.execute_input": "2025-08-07T13:43:40.533784Z",
          "iopub.status.idle": "2025-08-07T13:43:40.549796Z",
          "shell.execute_reply.started": "2025-08-07T13:43:40.533763Z",
          "shell.execute_reply": "2025-08-07T13:43:40.549095Z"
        },
        "id": "p7kAqYK2b_u1",
        "outputId": "e49bc494-5c17-4715-9db8-5b63e363384b"
      },
      "outputs": [
        {
          "name": "stdout",
          "text": "Train size: 3991\nValidation size: 499\nTest size: 499\n",
          "output_type": "stream"
        }
      ],
      "execution_count": null
    },
    {
      "cell_type": "code",
      "source": [
        "set(train_dataset['label'])  # checking the number of labels"
      ],
      "metadata": {
        "trusted": true,
        "execution": {
          "iopub.status.busy": "2025-07-28T23:55:21.383832Z",
          "iopub.execute_input": "2025-07-28T23:55:21.384135Z",
          "iopub.status.idle": "2025-07-28T23:55:21.411629Z",
          "shell.execute_reply.started": "2025-07-28T23:55:21.384114Z",
          "shell.execute_reply": "2025-07-28T23:55:21.410909Z"
        },
        "id": "_ABrhaYLb_u1",
        "outputId": "a449a0a0-2d41-4d91-de20-c4e52ca9b631"
      },
      "outputs": [
        {
          "execution_count": 15,
          "output_type": "execute_result",
          "data": {
            "text/plain": "{0, 1, 2}"
          },
          "metadata": {}
        }
      ],
      "execution_count": null
    },
    {
      "cell_type": "markdown",
      "source": [
        "# training the model\n",
        "\n",
        "First I will load Pretrained RoBERTa Model for Classification\n",
        "\n",
        "Then I will Define TrainingArguments\n",
        "\n"
      ],
      "metadata": {
        "id": "b1J-QGYDb_u1"
      }
    },
    {
      "cell_type": "code",
      "source": [
        "from transformers import AutoModelForSequenceClassification\n",
        "\n",
        "model_name = \"roberta-base\"\n",
        "\n",
        "model = AutoModelForSequenceClassification.from_pretrained(model_name, num_labels=3)"
      ],
      "metadata": {
        "trusted": true,
        "execution": {
          "iopub.status.busy": "2025-08-07T13:43:43.984949Z",
          "iopub.execute_input": "2025-08-07T13:43:43.985539Z",
          "iopub.status.idle": "2025-08-07T13:44:10.097064Z",
          "shell.execute_reply.started": "2025-08-07T13:43:43.985514Z",
          "shell.execute_reply": "2025-08-07T13:44:10.096509Z"
        },
        "id": "HRm-bwCKb_u1",
        "outputId": "c3f0ae85-80a2-4931-9e5b-e541b2af2077",
        "colab": {
          "referenced_widgets": [
            "8d4713ec02a842f68d572def40035c1f"
          ]
        }
      },
      "outputs": [
        {
          "name": "stderr",
          "text": "2025-08-07 13:43:52.516788: E external/local_xla/xla/stream_executor/cuda/cuda_fft.cc:477] Unable to register cuFFT factory: Attempting to register factory for plugin cuFFT when one has already been registered\nWARNING: All log messages before absl::InitializeLog() is called are written to STDERR\nE0000 00:00:1754574232.877669      36 cuda_dnn.cc:8310] Unable to register cuDNN factory: Attempting to register factory for plugin cuDNN when one has already been registered\nE0000 00:00:1754574232.978953      36 cuda_blas.cc:1418] Unable to register cuBLAS factory: Attempting to register factory for plugin cuBLAS when one has already been registered\n",
          "output_type": "stream"
        },
        {
          "output_type": "display_data",
          "data": {
            "text/plain": "model.safetensors:   0%|          | 0.00/499M [00:00<?, ?B/s]",
            "application/vnd.jupyter.widget-view+json": {
              "version_major": 2,
              "version_minor": 0,
              "model_id": "8d4713ec02a842f68d572def40035c1f"
            }
          },
          "metadata": {}
        },
        {
          "name": "stderr",
          "text": "Some weights of RobertaForSequenceClassification were not initialized from the model checkpoint at roberta-base and are newly initialized: ['classifier.dense.bias', 'classifier.dense.weight', 'classifier.out_proj.bias', 'classifier.out_proj.weight']\nYou should probably TRAIN this model on a down-stream task to be able to use it for predictions and inference.\n",
          "output_type": "stream"
        }
      ],
      "execution_count": null
    },
    {
      "cell_type": "code",
      "source": [
        "from transformers import TrainingArguments\n",
        "\n",
        "training_args = TrainingArguments(         # TrainingArguments object, which later pass into the Trainer and defines how training will happen\n",
        "    output_dir=\"./results\",           # sets the folder where model checkpoints, logs, and config files will be saved\n",
        "    eval_strategy=\"epoch\",      # Evaluate the model once at the end of every epoch using the validation set\n",
        "    save_strategy=\"epoch\",          # Save a checkpoint (i.e., the model) at the end of each epoch\n",
        "    logging_strategy=\"epoch\",       # Logs training metrics like loss at the end of each epoch\n",
        "    learning_rate=2e-5,\n",
        "    per_device_train_batch_size=8,\n",
        "    per_device_eval_batch_size=8,\n",
        "    num_train_epochs=3,    # Number of passes through the full training dataset\n",
        "    weight_decay=0.01,     # Helps reduce overfitting by penalizing large weights\n",
        "    load_best_model_at_end=True,    # After training, automatically reloads the checkpoint with the best validation score\n",
        "    metric_for_best_model=\"macro_f1\",   # track best f1 (chose Macro F1 because training data is not balanced and we care about every class equally)\n",
        "    greater_is_better=True,             # higher F1 is better\n",
        "    save_total_limit=3,\n",
        "    report_to=\"none\"    # Prevents logging to external tools\n",
        ")\n"
      ],
      "metadata": {
        "trusted": true,
        "execution": {
          "iopub.status.busy": "2025-07-29T01:01:22.026028Z",
          "iopub.execute_input": "2025-07-29T01:01:22.026349Z",
          "iopub.status.idle": "2025-07-29T01:01:22.064855Z",
          "shell.execute_reply.started": "2025-07-29T01:01:22.026327Z",
          "shell.execute_reply": "2025-07-29T01:01:22.064245Z"
        },
        "id": "v7pIu01gb_u1"
      },
      "outputs": [],
      "execution_count": null
    },
    {
      "cell_type": "markdown",
      "source": [
        "I chose F1 for best model because training data is not balanced and we care about every class equally. However I will follow multiple metrics after each epoch"
      ],
      "metadata": {
        "id": "1zpEkGKTb_u1"
      }
    },
    {
      "cell_type": "code",
      "source": [
        "from sklearn.metrics import accuracy_score, precision_recall_fscore_support\n",
        "\n",
        "def compute_metrics(eval_pred):\n",
        "    logits, labels = eval_pred\n",
        "    predictions = logits.argmax(axis=1)\n",
        "\n",
        "    acc = accuracy_score(labels, predictions)\n",
        "    precision, recall, f1, _ = precision_recall_fscore_support(\n",
        "        labels,\n",
        "        predictions,\n",
        "        average=\"macro\"  # Treat all classes equally\n",
        "    )\n",
        "\n",
        "    return {\n",
        "        \"accuracy\": acc,\n",
        "        \"macro_precision\": precision,\n",
        "        \"macro_recall\": recall,\n",
        "        \"macro_f1\": f1,\n",
        "    }\n"
      ],
      "metadata": {
        "trusted": true,
        "execution": {
          "iopub.status.busy": "2025-08-07T13:44:58.300364Z",
          "iopub.execute_input": "2025-08-07T13:44:58.300689Z",
          "iopub.status.idle": "2025-08-07T13:44:58.305064Z",
          "shell.execute_reply.started": "2025-08-07T13:44:58.300669Z",
          "shell.execute_reply": "2025-08-07T13:44:58.304419Z"
        },
        "id": "4SKt0uy0b_u1"
      },
      "outputs": [],
      "execution_count": null
    },
    {
      "cell_type": "markdown",
      "source": [
        "I am using DataCollatorWithPadding because it is significantly more efficient than padding everything to a fixed length like 512, especially when working with short or variable-length texts (our contains have variable-length texts after tokenization) , training on limited hardware (like Colab or Kaggle) and using batch training, where each batch has many examples of different lengths.\n",
        "\n",
        "It Only pads each batch to the length of the longest sequence in that batch. Saves training time, memory and compute.\n",
        "\n",
        "The data_collator is not applied directly to the dataset. Instead, it is passed to the Trainer (or a PyTorch DataLoader) and automatically handles padding when batching."
      ],
      "metadata": {
        "id": "OGu16GHrb_u1"
      }
    },
    {
      "cell_type": "code",
      "source": [
        "from transformers import Trainer\n",
        "from transformers import DataCollatorWithPadding\n",
        "\n",
        "data_collator = DataCollatorWithPadding(tokenizer=tokenizer)  # Pads a batch of examples dynamically at runtime. Uses the tokenizer’s padding rules. Finds the longest one in the batch. Pads all others to match its length\n",
        "\n",
        "trainer = Trainer(\n",
        "    model=model,\n",
        "    args=training_args,\n",
        "    train_dataset=train_dataset,\n",
        "    eval_dataset=val_dataset,\n",
        "    tokenizer=tokenizer,\n",
        "    data_collator=data_collator,\n",
        "    compute_metrics=compute_metrics\n",
        ")\n",
        "\n",
        "\n",
        "trainer.train()\n"
      ],
      "metadata": {
        "trusted": true,
        "execution": {
          "iopub.status.busy": "2025-07-29T01:01:29.335919Z",
          "iopub.execute_input": "2025-07-29T01:01:29.336434Z",
          "iopub.status.idle": "2025-07-29T01:07:09.869995Z",
          "shell.execute_reply.started": "2025-07-29T01:01:29.3364Z",
          "shell.execute_reply": "2025-07-29T01:07:09.869416Z"
        },
        "id": "Rrw4AqNeb_u1",
        "outputId": "90d1b024-6c4b-4633-8c72-1a95727fe356"
      },
      "outputs": [
        {
          "name": "stderr",
          "text": "/tmp/ipykernel_36/3106661717.py:6: FutureWarning: `tokenizer` is deprecated and will be removed in version 5.0.0 for `Trainer.__init__`. Use `processing_class` instead.\n  trainer = Trainer(\n/usr/local/lib/python3.11/dist-packages/torch/nn/parallel/_functions.py:70: UserWarning: Was asked to gather along dimension 0, but all input tensors were scalars; will instead unsqueeze and return a vector.\n  warnings.warn(\n",
          "output_type": "stream"
        },
        {
          "output_type": "display_data",
          "data": {
            "text/plain": "<IPython.core.display.HTML object>",
            "text/html": "\n    <div>\n      \n      <progress value='750' max='750' style='width:300px; height:20px; vertical-align: middle;'></progress>\n      [750/750 05:36, Epoch 3/3]\n    </div>\n    <table border=\"1\" class=\"dataframe\">\n  <thead>\n <tr style=\"text-align: left;\">\n      <th>Epoch</th>\n      <th>Training Loss</th>\n      <th>Validation Loss</th>\n      <th>Accuracy</th>\n      <th>Macro Precision</th>\n      <th>Macro Recall</th>\n      <th>Macro F1</th>\n    </tr>\n  </thead>\n  <tbody>\n    <tr>\n      <td>1</td>\n      <td>0.129600</td>\n      <td>0.015004</td>\n      <td>0.995992</td>\n      <td>0.997386</td>\n      <td>0.996212</td>\n      <td>0.996783</td>\n    </tr>\n    <tr>\n      <td>2</td>\n      <td>0.004100</td>\n      <td>0.025306</td>\n      <td>0.995992</td>\n      <td>0.997386</td>\n      <td>0.996212</td>\n      <td>0.996783</td>\n    </tr>\n    <tr>\n      <td>3</td>\n      <td>0.000400</td>\n      <td>0.000920</td>\n      <td>1.000000</td>\n      <td>1.000000</td>\n      <td>1.000000</td>\n      <td>1.000000</td>\n    </tr>\n  </tbody>\n</table><p>"
          },
          "metadata": {}
        },
        {
          "name": "stderr",
          "text": "/usr/local/lib/python3.11/dist-packages/torch/nn/parallel/_functions.py:70: UserWarning: Was asked to gather along dimension 0, but all input tensors were scalars; will instead unsqueeze and return a vector.\n  warnings.warn(\n/usr/local/lib/python3.11/dist-packages/torch/nn/parallel/_functions.py:70: UserWarning: Was asked to gather along dimension 0, but all input tensors were scalars; will instead unsqueeze and return a vector.\n  warnings.warn(\n",
          "output_type": "stream"
        },
        {
          "execution_count": 15,
          "output_type": "execute_result",
          "data": {
            "text/plain": "TrainOutput(global_step=750, training_loss=0.044687073121468225, metrics={'train_runtime': 339.7138, 'train_samples_per_second': 35.244, 'train_steps_per_second': 2.208, 'total_flos': 1250506129386024.0, 'train_loss': 0.044687073121468225, 'epoch': 3.0})"
          },
          "metadata": {}
        }
      ],
      "execution_count": null
    },
    {
      "cell_type": "markdown",
      "source": [
        "# visualizing the train and validation loss"
      ],
      "metadata": {
        "id": "xfXUMDQZb_u1"
      }
    },
    {
      "cell_type": "code",
      "source": [
        "import pandas as pd\n",
        "import matplotlib.pyplot as plt\n",
        "\n",
        "# Convert log history to DataFrame\n",
        "log_df = pd.DataFrame(trainer.state.log_history)\n",
        "\n",
        "# Filter only evaluation and training loss entries\n",
        "eval_df = log_df[log_df.eval_loss.notna()]\n",
        "train_df = log_df[log_df.loss.notna()]\n",
        "\n"
      ],
      "metadata": {
        "trusted": true,
        "execution": {
          "iopub.status.busy": "2025-07-29T01:07:09.870937Z",
          "iopub.execute_input": "2025-07-29T01:07:09.871183Z",
          "iopub.status.idle": "2025-07-29T01:07:09.878452Z",
          "shell.execute_reply.started": "2025-07-29T01:07:09.871165Z",
          "shell.execute_reply": "2025-07-29T01:07:09.87759Z"
        },
        "id": "SsqswWhyb_u1"
      },
      "outputs": [],
      "execution_count": null
    },
    {
      "cell_type": "code",
      "source": [
        "plt.plot(train_df[\"epoch\"], train_df[\"loss\"], label=\"Train Loss\", marker='o')\n",
        "plt.plot(eval_df[\"epoch\"], eval_df[\"eval_loss\"], label=\"Validation Loss\", marker='o')\n",
        "plt.xlabel(\"Epoch\")\n",
        "plt.ylabel(\"Loss\")\n",
        "plt.title(\"Train vs Validation Loss\")\n",
        "plt.legend()\n",
        "plt.grid(True)\n",
        "plt.show()\n"
      ],
      "metadata": {
        "trusted": true,
        "execution": {
          "iopub.status.busy": "2025-07-29T01:07:09.8793Z",
          "iopub.execute_input": "2025-07-29T01:07:09.879595Z",
          "iopub.status.idle": "2025-07-29T01:07:10.293462Z",
          "shell.execute_reply.started": "2025-07-29T01:07:09.879568Z",
          "shell.execute_reply": "2025-07-29T01:07:10.29272Z"
        },
        "id": "PCvPzTz7b_u1",
        "outputId": "6a5caa2f-9585-405d-c061-1e8eb5ada305"
      },
      "outputs": [
        {
          "output_type": "display_data",
          "data": {
            "text/plain": "<Figure size 640x480 with 1 Axes>",
            "image/png": "[encoded data removed]"
          },
          "metadata": {}
        }
      ],
      "execution_count": null
    },
    {
      "cell_type": "code",
      "source": [
        "plt.plot(eval_df[\"epoch\"], eval_df[\"eval_accuracy\"], label=\"Validation Accuracy\", marker='o')\n",
        "plt.plot(eval_df[\"epoch\"], eval_df[\"eval_macro_f1\"], label=\"Validation F1\", marker='o')\n",
        "plt.xlabel(\"Epoch\")\n",
        "plt.ylabel(\"Score\")\n",
        "plt.title(\"Validation Accuracy and Macro F1\")\n",
        "plt.legend()\n",
        "plt.grid(True)\n",
        "plt.show()\n"
      ],
      "metadata": {
        "trusted": true,
        "execution": {
          "iopub.status.busy": "2025-07-29T01:07:10.294578Z",
          "iopub.execute_input": "2025-07-29T01:07:10.294795Z",
          "iopub.status.idle": "2025-07-29T01:07:10.495385Z",
          "shell.execute_reply.started": "2025-07-29T01:07:10.294779Z",
          "shell.execute_reply": "2025-07-29T01:07:10.494612Z"
        },
        "id": "JTr-j53sb_u2",
        "outputId": "b9fb02d8-282e-4fc0-cd66-a2e5b32ccba4"
      },
      "outputs": [
        {
          "output_type": "display_data",
          "data": {
            "text/plain": "<Figure size 640x480 with 1 Axes>",
            "image/png": "[encoded data removed]"
          },
          "metadata": {}
        }
      ],
      "execution_count": null
    },
    {
      "cell_type": "markdown",
      "source": [
        "The loss curves show a clear convergence during training. Training loss drops significantly from 0.1296 to 0.0004 by the third epoch, while validation loss begins low at 0.0150, slightly increases in the second epoch to 0.0253, and then drops again to 0.0009. This minor spike in validation loss could be due temporary noise or slight overfitting, but the sharp drop in the final epoch suggests the model corrected itself and continued improving.\n",
        "\n",
        "The validation accuracy and macro F1 score remain high throughout training, around 0.996 and reaching a perfect 1.000 by epoch 3. This shows the model is achieving near-perfect classification performance. While this is excellent if the dataset is large and varied, it may also show that the dataset is too simple or repetitive (it’s small). I am going to evaluate the model on test set in the next step."
      ],
      "metadata": {
        "id": "-uISzPg8b_u2"
      }
    },
    {
      "cell_type": "code",
      "source": [
        "trainer.evaluate(test_dataset)\n"
      ],
      "metadata": {
        "trusted": true,
        "execution": {
          "iopub.status.busy": "2025-07-29T01:16:55.409342Z",
          "iopub.execute_input": "2025-07-29T01:16:55.409925Z",
          "iopub.status.idle": "2025-07-29T01:16:59.632509Z",
          "shell.execute_reply.started": "2025-07-29T01:16:55.409904Z",
          "shell.execute_reply": "2025-07-29T01:16:59.631883Z"
        },
        "id": "SH8-PyYub_u5",
        "outputId": "a352b122-9cc4-4ea7-f206-b161f8302805"
      },
      "outputs": [
        {
          "name": "stderr",
          "text": "/usr/local/lib/python3.11/dist-packages/torch/nn/parallel/_functions.py:70: UserWarning: Was asked to gather along dimension 0, but all input tensors were scalars; will instead unsqueeze and return a vector.\n  warnings.warn(\n",
          "output_type": "stream"
        },
        {
          "output_type": "display_data",
          "data": {
            "text/plain": "<IPython.core.display.HTML object>",
            "text/html": "\n    <div>\n      \n      <progress value='32' max='32' style='width:300px; height:20px; vertical-align: middle;'></progress>\n      [32/32 00:04]\n    </div>\n    "
          },
          "metadata": {}
        },
        {
          "execution_count": 19,
          "output_type": "execute_result",
          "data": {
            "text/plain": "{'eval_loss': 0.019295280799269676,\n 'eval_accuracy': 0.9959919839679359,\n 'eval_macro_precision': 0.9976771196283392,\n 'eval_macro_recall': 0.9959595959595959,\n 'eval_macro_f1': 0.9968019785092955,\n 'eval_runtime': 4.214,\n 'eval_samples_per_second': 118.414,\n 'eval_steps_per_second': 7.594,\n 'epoch': 3.0}"
          },
          "metadata": {}
        }
      ],
      "execution_count": null
    },
    {
      "cell_type": "markdown",
      "source": [
        "Above result showes that our model generalizes well to the test set.\n",
        "\n",
        "The metrics are consistent with what we saw on the validation set.\n",
        "\n",
        "Macro F1 near 1.0 means that the model is treating all 3 authors fairly, not just focusing on the majority class."
      ],
      "metadata": {
        "id": "ytUo_xk-b_u5"
      }
    },
    {
      "cell_type": "markdown",
      "source": [
        "In this step I want to try our model to classify the text ,either some text samples from other books of the Author (not included in our training set) or text created by a \"text generator model\" , That is trained on some books of author, other than our training set (I created this model in other project). I also changed the character names in the sample text,to make our model predict based on the style and context similarity, only."
      ],
      "metadata": {
        "id": "YA316LbRb_u5"
      }
    },
    {
      "cell_type": "code",
      "source": [
        "import torch\n",
        "\n",
        "# Example input text\n",
        "text = \"Sarah was beginning to doubt whether she had a wish for him, and therefore a doubt of his staying. She was rather uneasy as to what the future might be; and when she did recover, it was found that Mr. Smit and Harriet had not spoken of it to each other for more than an hour, and that the doubt of being absent from the place had not affected her.\"\n",
        "\n",
        "# Tokenize\n",
        "inputs = tokenizer(text, return_tensors=\"pt\", truncation=True, padding=True, max_length=512)\n",
        "\n",
        "# Move inputs to the model's device\n",
        "device = trainer.model.device\n",
        "inputs = {k: v.to(device) for k, v in inputs.items()}\n",
        "\n",
        "# Run prediction\n",
        "with torch.no_grad():\n",
        "    outputs = trainer.model(**inputs)\n",
        "    predicted_class = outputs.logits.argmax(dim=1).item()\n",
        "\n",
        "# Decode label\n",
        "predicted_label = le.inverse_transform([predicted_class])[0]\n",
        "print(\"Predicted Author:\", predicted_label)\n",
        "\n"
      ],
      "metadata": {
        "trusted": true,
        "execution": {
          "iopub.status.busy": "2025-07-29T01:23:47.314691Z",
          "iopub.execute_input": "2025-07-29T01:23:47.315404Z",
          "iopub.status.idle": "2025-07-29T01:23:47.336786Z",
          "shell.execute_reply.started": "2025-07-29T01:23:47.315376Z",
          "shell.execute_reply": "2025-07-29T01:23:47.336202Z"
        },
        "id": "T7aO_Vmwb_u5",
        "outputId": "4441cafe-cc14-4fc3-c5a1-7e80bce819ae"
      },
      "outputs": [
        {
          "name": "stdout",
          "text": "Predicted Author: austen\n",
          "output_type": "stream"
        }
      ],
      "execution_count": null
    },
    {
      "cell_type": "code",
      "source": [
        "# Example input text\n",
        "text = \"however, had not a thing good to say to her in the last couple of weeks, she could hardly imagine what she had been possible of; and the very next day was spent at Bath, where Mr. and Mrs. Brown were to meet, and to be joined by a very well-wishing Mrs. Maiden, a woman who had never been present at Partfield, but who had been very fortunate in being acquainted with Mr. Brown, and had an open mind to every thing.\"\n",
        "\n",
        "# Tokenize\n",
        "inputs = tokenizer(text, return_tensors=\"pt\", truncation=True, padding=True, max_length=512)\n",
        "\n",
        "# Move inputs to the model's device\n",
        "device = trainer.model.device\n",
        "inputs = {k: v.to(device) for k, v in inputs.items()}\n",
        "\n",
        "# Run prediction\n",
        "with torch.no_grad():\n",
        "    outputs = trainer.model(**inputs)\n",
        "    predicted_class = outputs.logits.argmax(dim=1).item()\n",
        "\n",
        "# Decode label\n",
        "predicted_label = le.inverse_transform([predicted_class])[0]\n",
        "print(\"Predicted Author:\", predicted_label)"
      ],
      "metadata": {
        "trusted": true,
        "execution": {
          "iopub.status.busy": "2025-07-29T01:31:20.131486Z",
          "iopub.execute_input": "2025-07-29T01:31:20.131765Z",
          "iopub.status.idle": "2025-07-29T01:31:20.156422Z",
          "shell.execute_reply.started": "2025-07-29T01:31:20.131745Z",
          "shell.execute_reply": "2025-07-29T01:31:20.155626Z"
        },
        "id": "CfgUiNM9b_u5",
        "outputId": "96c364a3-c747-48bf-d772-018d688e2d8f"
      },
      "outputs": [
        {
          "name": "stdout",
          "text": "Predicted Author: austen\n",
          "output_type": "stream"
        }
      ],
      "execution_count": null
    },
    {
      "cell_type": "code",
      "source": [
        "# Example input text\n",
        "#text = \"I love you more than word can wield the matter, Dearer than eyesight, space, and liberty, Beyond what can be valued, rich or rare, No less than life, with grace, health, beauty, honor; As much as child e’er loved, or father found; A love that makes breath poor and speech unable; Beyond all manner of so much I love you.\"\n",
        "#text = \"I am that merry wanderer of the night. I jest to Oberon and make him smile When I a fat and bean-fed horse beguile, Neighing in likeness of a filly foal: And sometimes lurk I in a gossip’s bowl, In very likeness of a roasted crab, And when she drinks, against her lips I bob And on her withered dewlap pour the ale.\"\n",
        "text = \"It is always simple to fall; there are an infinity of angles at which one falls, only one at which one stands. A man may fall by pride or by power or by wealth or by wine. He may fall by ambition or by laziness, by cruelty or by softness, by jealousy or by ignorance. But each of the thousand sins comes from a distinct failure to be upright. Evil always takes advantage of the infinite possibilities of error. Good is always the same. It is always humble, always quiet, always simple. That is why it is so hard to recognize\"\n",
        "\n",
        "# Tokenize\n",
        "inputs = tokenizer(text, return_tensors=\"pt\", truncation=True, padding=True, max_length=512)\n",
        "\n",
        "# Move inputs to the model's device\n",
        "device = trainer.model.device\n",
        "inputs = {k: v.to(device) for k, v in inputs.items()}   # Loops through each key–value pair in the dictionary. Calls .to(device) on each tensor (e.g., moves them to GPU if device = \"cuda:0\"). Creates a new dictionary with all tensors on the same device as the model\n",
        "\n",
        "# Run prediction\n",
        "with torch.no_grad():\n",
        "    outputs = trainer.model(**inputs)  # Dictionary Unpacking  >> equivalent to: outputs = model(input_ids=inputs[\"input_ids\"], attention_mask=inputs[\"attention_mask\"])\n",
        "    predicted_class = outputs.logits.argmax(dim=1).item()\n",
        "\n",
        "# Decode label\n",
        "predicted_label = le.inverse_transform([predicted_class])[0]\n",
        "print(\"Predicted Author:\", predicted_label)"
      ],
      "metadata": {
        "trusted": true,
        "execution": {
          "iopub.status.busy": "2025-07-29T01:41:32.210975Z",
          "iopub.execute_input": "2025-07-29T01:41:32.211488Z",
          "iopub.status.idle": "2025-07-29T01:41:32.235962Z",
          "shell.execute_reply.started": "2025-07-29T01:41:32.211463Z",
          "shell.execute_reply": "2025-07-29T01:41:32.235147Z"
        },
        "id": "QeaFFICib_u5",
        "outputId": "1b1a2b13-4b82-437f-b693-dff035446af6"
      },
      "outputs": [
        {
          "name": "stdout",
          "text": "Predicted Author: chesterton\n",
          "output_type": "stream"
        }
      ],
      "execution_count": null
    },
    {
      "cell_type": "markdown",
      "source": [
        "between 10 differet text samples I tried, only 2 prediction was not correct and both were texts from Shakespeare books. I guess this could be due to 1- less number of samples we had from Shakespeare compare to other Authors (austen         2812,\n",
        "chesterton     1647, shakespeare     530) or 2- the variety of Shakespeare books like plays (Tragedies,Comedies, Histories), poems, and sonnets with different styles. My suggestion for improvement is adding more samples to dataset from different book categories."
      ],
      "metadata": {
        "id": "Vund0-8Zb_u5"
      }
    },
    {
      "cell_type": "markdown",
      "source": [
        "### Questions\n",
        "Answer the following questions in detail.\n",
        "\n",
        "1. What is a Transformer model, and how does it differ fundamentally from recurrent neural networks (RNNs)?\n",
        "\n",
        "Transformer models are a type of deep learning model designed to handle sequential data by using self-attention mechanisms to capture dependencies between input and output sequences.\n",
        "\n",
        "difference from recurrent neural networks (RNNs)s:\n",
        "\n",
        "Self-Attention Mechanism: Captures relationships between all tokens in a sequence, allowing for parallelization.\n",
        "\n",
        "Scalability: Can handle longer sequences and larger datasets more efficiently than previous models like RNNs and LSTMs.\n",
        "\n",
        "2. Explain the concept of self-attention and why it significantly improves NLP tasks.\n",
        "\n",
        "self-attention or Scaled Dot-Product Attention: Computes attention scores between all pairs of tokens, that helps models to understand relationships between words or entities in a sentence, no matter where they appear.\n",
        "\n",
        "This mechanism captures long-range dependencies by calculating attention between all words in the sequence and helping the model to look at the entire sequence at once. Unlike traditional models that process words one by one it helps the model to find which words are most relevant to each other helpful for tasks like translation or text generation.\n",
        "\n",
        "3. Discuss why fine-tuning pretrained Transformer models is effective compared to training from scratch.\n",
        "\n",
        "Performance Improvement when working with limited data: Fine-tuning often results in models that perform better than those trained from scratch, especially when working with limited data.\n",
        "\n",
        "Time and Resource Efficiency: Fine-tuning generally requires less time and computational resources compared to training a model from scratch since it starts with pre-existing weights and architectures.\n",
        "\n",
        "Transfer Learning: By leveraging pre-trained models, fine-tuning allows for transfer learning, where knowledge gained from one task can be applied to another, potentially unrelated task.\n",
        "\n",
        "4. What is the difference between BERT and GPT models? Describe their key design differences and typical use cases.\n",
        "\n",
        "GPT (Generative Pre-trained Transformer), is designed as an autoregressive model that predicts the next word in a sentence given all the previous words.\n",
        "Here are some key features of GPT:\n",
        "\n",
        "Autoregressive Nature: GPT is trained to predict the next word sequentially, making it highly effective for tasks that involve generating text, like content creation, story generation, and language translation.\n",
        "\n",
        "Unidirectional Context: GPT only considers the previous words in the input for predictions, not what follows. This unidirectional approach is simpler but limits its effectiveness in understanding the full context of the input.\n",
        "\n",
        "BERT: Bidirectional Encoder Representations from Transformers contrasts with GPT in that it is designed to derive deep bidirectional context from text by processing words in relation to all the other words in a sentence (rather than just the words that precede them). Here are the hallmarks of BERT:\n",
        "\n",
        "Bidirectional Context: BERT's major innovation is its mechanism of \"masked language modeling\" (MLM), where some words are randomly masked, and the objective is to predict these masked words based on both left and right context, thus providing a deeper understanding of language structure and usage.\n",
        "\n",
        "Non-Generative: Unlike GPT, BERT is not used for generating text but for tasks that require understanding the relationships and representations within text, such as sentiment analysis, question answering, and language inference.\n",
        "\n",
        "5. Explain positional encoding in Transformer models and its importance.\n",
        "\n",
        "Transformers process all tokens in parallel which speeds up training but they don’t naturally capture order of tokens. To address this issue positional encoding was introduced which adds information about each token's position in the sequence which helps model to understand relationships and order between tokens.\n",
        "\n",
        "We usually use sine and cosine functions to generate positional encodings. These positional encodings are added element-wise to the word embeddings. The resulting vectors contain both semantic and positional information which allows the Transformer model to understand not only the meaning of each word but also its position in the sequence.\n",
        "\n",
        "Positional encodings are important in Transformer models for several reasons:\n",
        "\n",
        "Contextual Understanding: In natural language meaning of a word depends on its position hence helping model to understand these differences.\n",
        "\n",
        "Better Generalization: It allows Transformer models to handle input sequences of different lengths which makes them more flexible for tasks like document summarization or question answering.\n",
        "\n",
        "Preventing Symmetry Issues: Without positional encoding it considers token as same which causes issues but by using positional encoding tokens at different positions are treated differently which improves model’s ability to capture long-range dependencies.\n",
        "\n",
        "6. What are some common evaluation metrics used for your chosen NLP task, and why?\n",
        "\n",
        "For the task of author style classification, a multi-class text classification problem, common evaluation metrics include accuracy, precision, recall, and F1-score.\n",
        "\n",
        "Accuracy measures the overall proportion of correct predictions and is useful when classes are balanced. However, in many NLP tasks where class imbalance can exist, accuracy alone may be misleading. Therefore, metrics like macro-averaged precision, recall, and F1-score are also used.\n",
        "\n",
        "Macro-averaging treats all classes equally by computing the metric for each class and then averaging the results, ensuring that each author’s writing style is fairly evaluated regardless of how many samples belong to them. These metrics help assess how well the model distinguishes between the writing styles of different authors.\n",
        "\n",
        "In my code, the compute_metrics function is used within the Hugging Face Trainer to calculate these metrics at the end of  each epoch. It extracts the predicted class labels from the model’s output logits and compares them to the ground truth labels using sklearn's accuracy_score and precision_recall_fscore_support. The use of average=\"macro\" ensures that precision, recall, and F1-score are computed independently for each class (author) and then averaged, which is especially important when all classes are equally important. This evaluation method gives a good understanding of the model’s performance across all author categories.\n",
        "\n",
        "7. Discuss potential drawbacks or limitations of Transformer models (e.g., computational complexity, data requirements).\n",
        "\n",
        "Computational complexity: Transformers can be computationally expensive to train and use, especially for large models like GPT-3. This can be a major barrier to their deployment in real-world applications.\n",
        "\n",
        "Overfitting: Transformers can easily overfit to the training data, especially if the data is small or not diverse enough. This can lead to poor generalization performance on unseen data.\n",
        "\n",
        "Attention bias: Transformers rely on attention mechanisms to determine which parts of the input sequence are most relevant. However, these mechanisms can sometimes be biased, leading to suboptimal results.\n",
        "\n",
        "Interpretability: Transformers can be difficult to interpret and understand, as they are trained end-to-end and do not have clear, interpretable intermediate representations like those produced by some other neural network architectures.\n",
        "\n",
        "8. How does tokenization impact Transformer model performance, and what considerations are important during data preprocessing?\n",
        "\n",
        "Cost Efficiency: Proper tokenization directly impacts computational requirements. Inefficient tokenization can increase token count directly translating to higher inference costs when using commercial AI APIs.\n",
        "\n",
        "Quality of Results: The quality of embeddings affects virtually every downstream task in the systems. Better embeddings lead to more accurate search results, more relevant recommendations, and more natural language generation.\n",
        "\n",
        "System Architecture: The choice of tokenization and embedding strategies influences our entire AI infrastructure, from storage requirements to processing pipelines.\n",
        "\n",
        "Model Performance: Research shows that tokenization alone can impact model performance, while embedding quality can make or break specialized applications.\n",
        "\n",
        "9. Provide at least two examples of real-world applications using Transformers outside of your chosen task.\n",
        "\n",
        "One of the earliest and most impactful applications of Transformers is machine translation. Models like Google’s Transformer-based Neural Machine Translation (NMT) system like Google Translate have significantly improved the accuracy and fluency of translations.\n",
        "\n",
        "text generation like GPT-3 and 4 capable of producing human-like text based on given prompts.\n",
        "\n",
        "Molecule Transformer: Predicts chemical reactions and assists in identifying potential drug candidates. Transformers are being used to predict molecular properties and assist in drug discovery.\n",
        "\n",
        "\n",
        "10. What future directions or improvements could further enhance Transformer models?\n",
        "\n",
        "Improving Multimodal Capabilities:\n",
        "Cross-modal Transformers: Integrating text, image, audio, and video into unified models expands their versatility.\n",
        "\n",
        "Vision-Language Models: Transformers like PaliGemma and DeepSeek-VL2 are pushing boundaries in understanding and generating across modalities\n",
        "\n",
        "Biologically Inspired Models:\n",
        "Some researchers are exploring neural architectures that mimic brain-like processing, potentially leading to more adaptive and energy-efficient models.\n"
      ],
      "metadata": {
        "id": "RYG7Jgvtb_u6"
      }
    },
    {
      "cell_type": "code",
      "source": [],
      "metadata": {
        "trusted": true,
        "id": "cmAXeC4Jb_u6"
      },
      "outputs": [],
      "execution_count": null
    }
  ]
}