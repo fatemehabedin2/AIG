{
 "cells": [
  {
   "cell_type": "markdown",
   "metadata": {},
   "source": [
    "# Lab 2 - Probability in Machine Learning\n",
    "\n",
    "Welcome to the Probability in Machine Learning Lab! In this lab, we will explore how probability theory plays a crucial role in machine learning. We will start with a simple coin flip example to grasp the basics and then move on to build a Bayesian email classifier. Let's dive in!\n",
    "\n",
    "## Setting Up the Environment\n",
    "\n",
    "First, let's import the necessary libraries.\n"
   ]
  },
  {
   "cell_type": "code",
   "execution_count": 1,
   "metadata": {},
   "outputs": [],
   "source": [
    "import pandas as pd\n",
    "import numpy as np"
   ]
  },
  {
   "cell_type": "markdown",
   "metadata": {},
   "source": [
    "## Part 1: Coin Flip Probability Example\n",
    "\n",
    "### Objective:\n",
    "To understand basic probability and Python coding through a coin flip example.\n",
    "\n",
    "### Simulating Coin Flips\n",
    "We will simulate flipping a coin 1000 times.\n"
   ]
  },
  {
   "cell_type": "code",
   "execution_count": 2,
   "metadata": {},
   "outputs": [],
   "source": [
    "# Simulating 1000 coin flips, 0 for 'tails' and 1 for 'heads'\n",
    "coin_flips = np.random.choice(['heads', 'tails'], size=1000)\n",
    "df_coin = pd.DataFrame({'flip_result': coin_flips})"
   ]
  },
  {
   "cell_type": "markdown",
   "metadata": {},
   "source": [
    "### Analyzing Flip Results\n",
    "Now, let's count how many heads and tails we got."
   ]
  },
  {
   "cell_type": "code",
   "execution_count": 3,
   "metadata": {},
   "outputs": [
    {
     "name": "stdout",
     "output_type": "stream",
     "text": [
      "flip_result\n",
      "tails    532\n",
      "heads    468\n",
      "Name: count, dtype: int64\n"
     ]
    }
   ],
   "source": [
    "flip_counts = df_coin['flip_result'].value_counts()\n",
    "print(flip_counts)"
   ]
  },
  {
   "cell_type": "markdown",
   "metadata": {},
   "source": [
    "### Calculating Probabilities\n",
    "Next, we will calculate the probability of getting heads or tails."
   ]
  },
  {
   "cell_type": "code",
   "execution_count": 4,
   "metadata": {},
   "outputs": [
    {
     "name": "stdout",
     "output_type": "stream",
     "text": [
      "Probability of Heads: 0.468\n",
      "Probability of Tails: 0.532\n"
     ]
    }
   ],
   "source": [
    "p_heads = flip_counts['heads'] / len(df_coin)\n",
    "p_tails = flip_counts['tails'] / len(df_coin)\n",
    "print(f\"Probability of Heads: {p_heads}\")\n",
    "print(f\"Probability of Tails: {p_tails}\")"
   ]
  },
  {
   "cell_type": "markdown",
   "metadata": {},
   "source": [
    "## Part 2: Bayesian Email Classifier\n",
    "\n",
    "### Objective:\n",
    "Now, you will build a Bayesian email classifier to differentiate between 'spam' and 'ham' (not spam) emails.\n",
    "\n",
    "### Task 1: Exploring the Dataset\n",
    "First, load and explore the dataset. You can either find and use a dataset or use the following code to simulate a sample dataset."
   ]
  },
  {
   "cell_type": "code",
   "execution_count": 1,
   "metadata": {},
   "outputs": [],
   "source": [
    "# The following code snippet creates a simulated email classification (spam and not spam) dataset with 1000 data points.\n",
    "\n",
    "import pandas as pd\n",
    "import numpy as np\n",
    "\n",
    "# Sample size\n",
    "n_samples = 1000\n",
    "\n",
    "# Simulating data\n",
    "np.random.seed(42)\n",
    "\n",
    "data = {\n",
    "    'email_length': np.random.normal(100, 20, n_samples).astype(int),\n",
    "    'contains_free': np.random.choice([0, 1], size=n_samples, p=[0.7, 0.3]),\n",
    "    'contains_winner': np.random.choice([0, 1], size=n_samples, p=[0.5, 0.5]),\n",
    "    'time_of_day': np.random.choice(['morning', 'afternoon', 'evening', 'night'], n_samples),\n",
    "    'label': np.random.choice(['spam', 'ham'], n_samples, p=[0.4, 0.6])\n",
    "}\n",
    "\n",
    "df = pd.DataFrame(data)\n",
    "\n",
    "#Replace labels with ones with some relationship\n",
    "for index, row in df.iterrows():\n",
    "    prob = min(1, .7 *row[\"contains_free\"] + .7*row[\"contains_winner\"]+.1)\n",
    "    df.at[index, 'label'] = np.random.choice(['spam', 'ham'], p=[prob, 1-prob])\n",
    "\n",
    "# Saving the dataset\n",
    "df.to_csv('simulated_email_dataset.csv', index=False)"
   ]
  },
  {
   "cell_type": "code",
   "execution_count": 6,
   "metadata": {},
   "outputs": [
    {
     "data": {
      "text/html": [
       "<div>\n",
       "<style scoped>\n",
       "    .dataframe tbody tr th:only-of-type {\n",
       "        vertical-align: middle;\n",
       "    }\n",
       "\n",
       "    .dataframe tbody tr th {\n",
       "        vertical-align: top;\n",
       "    }\n",
       "\n",
       "    .dataframe thead th {\n",
       "        text-align: right;\n",
       "    }\n",
       "</style>\n",
       "<table border=\"1\" class=\"dataframe\">\n",
       "  <thead>\n",
       "    <tr style=\"text-align: right;\">\n",
       "      <th></th>\n",
       "      <th>email_length</th>\n",
       "      <th>contains_free</th>\n",
       "      <th>contains_winner</th>\n",
       "      <th>time_of_day</th>\n",
       "      <th>label</th>\n",
       "    </tr>\n",
       "  </thead>\n",
       "  <tbody>\n",
       "    <tr>\n",
       "      <th>0</th>\n",
       "      <td>109</td>\n",
       "      <td>0</td>\n",
       "      <td>0</td>\n",
       "      <td>morning</td>\n",
       "      <td>ham</td>\n",
       "    </tr>\n",
       "    <tr>\n",
       "      <th>1</th>\n",
       "      <td>97</td>\n",
       "      <td>0</td>\n",
       "      <td>0</td>\n",
       "      <td>morning</td>\n",
       "      <td>ham</td>\n",
       "    </tr>\n",
       "    <tr>\n",
       "      <th>2</th>\n",
       "      <td>112</td>\n",
       "      <td>0</td>\n",
       "      <td>0</td>\n",
       "      <td>morning</td>\n",
       "      <td>ham</td>\n",
       "    </tr>\n",
       "    <tr>\n",
       "      <th>3</th>\n",
       "      <td>130</td>\n",
       "      <td>1</td>\n",
       "      <td>0</td>\n",
       "      <td>afternoon</td>\n",
       "      <td>spam</td>\n",
       "    </tr>\n",
       "    <tr>\n",
       "      <th>4</th>\n",
       "      <td>95</td>\n",
       "      <td>0</td>\n",
       "      <td>1</td>\n",
       "      <td>afternoon</td>\n",
       "      <td>spam</td>\n",
       "    </tr>\n",
       "  </tbody>\n",
       "</table>\n",
       "</div>"
      ],
      "text/plain": [
       "   email_length  contains_free  contains_winner time_of_day label\n",
       "0           109              0                0     morning   ham\n",
       "1            97              0                0     morning   ham\n",
       "2           112              0                0     morning   ham\n",
       "3           130              1                0   afternoon  spam\n",
       "4            95              0                1   afternoon  spam"
      ]
     },
     "execution_count": 6,
     "metadata": {},
     "output_type": "execute_result"
    }
   ],
   "source": [
    "# Load the dataset (Replace 'path_to_dataset' with the actual file path). You can uncomment the codes below. Notice what `df_emails.head()` is representing.\n",
    "df = pd.read_csv('simulated_email_dataset.csv')\n",
    "df.head()"
   ]
  },
  {
   "cell_type": "markdown",
   "metadata": {},
   "source": [
    "### Task 2: Data Preprocessing\n",
    "You need to preprocess the data for analysis. This involves normalizing and encoding the features."
   ]
  },
  {
   "cell_type": "code",
   "execution_count": 7,
   "metadata": {},
   "outputs": [
    {
     "data": {
      "text/html": [
       "<div>\n",
       "<style scoped>\n",
       "    .dataframe tbody tr th:only-of-type {\n",
       "        vertical-align: middle;\n",
       "    }\n",
       "\n",
       "    .dataframe tbody tr th {\n",
       "        vertical-align: top;\n",
       "    }\n",
       "\n",
       "    .dataframe thead th {\n",
       "        text-align: right;\n",
       "    }\n",
       "</style>\n",
       "<table border=\"1\" class=\"dataframe\">\n",
       "  <thead>\n",
       "    <tr style=\"text-align: right;\">\n",
       "      <th></th>\n",
       "      <th>email_length</th>\n",
       "      <th>contains_free</th>\n",
       "      <th>contains_winner</th>\n",
       "      <th>time_of_day</th>\n",
       "      <th>label</th>\n",
       "      <th>Len</th>\n",
       "    </tr>\n",
       "  </thead>\n",
       "  <tbody>\n",
       "    <tr>\n",
       "      <th>0</th>\n",
       "      <td>109</td>\n",
       "      <td>0</td>\n",
       "      <td>0</td>\n",
       "      <td>morning</td>\n",
       "      <td>ham</td>\n",
       "      <td>long</td>\n",
       "    </tr>\n",
       "    <tr>\n",
       "      <th>1</th>\n",
       "      <td>97</td>\n",
       "      <td>0</td>\n",
       "      <td>0</td>\n",
       "      <td>morning</td>\n",
       "      <td>ham</td>\n",
       "      <td>medium</td>\n",
       "    </tr>\n",
       "    <tr>\n",
       "      <th>2</th>\n",
       "      <td>112</td>\n",
       "      <td>0</td>\n",
       "      <td>0</td>\n",
       "      <td>morning</td>\n",
       "      <td>ham</td>\n",
       "      <td>long</td>\n",
       "    </tr>\n",
       "    <tr>\n",
       "      <th>3</th>\n",
       "      <td>130</td>\n",
       "      <td>1</td>\n",
       "      <td>0</td>\n",
       "      <td>afternoon</td>\n",
       "      <td>spam</td>\n",
       "      <td>long</td>\n",
       "    </tr>\n",
       "    <tr>\n",
       "      <th>4</th>\n",
       "      <td>95</td>\n",
       "      <td>0</td>\n",
       "      <td>1</td>\n",
       "      <td>afternoon</td>\n",
       "      <td>spam</td>\n",
       "      <td>medium</td>\n",
       "    </tr>\n",
       "  </tbody>\n",
       "</table>\n",
       "</div>"
      ],
      "text/plain": [
       "   email_length  contains_free  contains_winner time_of_day label     Len\n",
       "0           109              0                0     morning   ham    long\n",
       "1            97              0                0     morning   ham  medium\n",
       "2           112              0                0     morning   ham    long\n",
       "3           130              1                0   afternoon  spam    long\n",
       "4            95              0                1   afternoon  spam  medium"
      ]
     },
     "execution_count": 7,
     "metadata": {},
     "output_type": "execute_result"
    }
   ],
   "source": [
    "categories = ['short', 'medium', 'long']\n",
    "\n",
    "df['Len'] = pd.qcut(df['email_length'], len(categories), labels = categories)\n",
    "df.head()"
   ]
  },
  {
   "cell_type": "markdown",
   "metadata": {},
   "source": [
    "### Task 3: Probability Calculation\n",
    "Calculate the probability of spam and ham emails in the dataset."
   ]
  },
  {
   "cell_type": "code",
   "execution_count": 9,
   "metadata": {},
   "outputs": [
    {
     "data": {
      "text/plain": [
       "label\n",
       "spam    590\n",
       "ham     410\n",
       "Name: count, dtype: int64"
      ]
     },
     "execution_count": 9,
     "metadata": {},
     "output_type": "execute_result"
    }
   ],
   "source": [
    "df.label.value_counts()"
   ]
  },
  {
   "cell_type": "code",
   "execution_count": 16,
   "metadata": {},
   "outputs": [
    {
     "name": "stdout",
     "output_type": "stream",
     "text": [
      "Probability of Spam: 0.59, Probability of Ham: 0.41\n"
     ]
    }
   ],
   "source": [
    "# Your code for calculating the probability of spam and ham emails in the dataset goes here as prior probabilities\n",
    "\n",
    "counts = df['label'].value_counts()\n",
    "\n",
    "# prior probabilities\n",
    "p_spam = counts['spam'] / len(df)\n",
    "p_ham = counts['ham'] / len(df)\n",
    "\n",
    "print(f\"Probability of Spam: {p_spam}, Probability of Ham: {p_ham}\")"
   ]
  },
  {
   "cell_type": "markdown",
   "metadata": {},
   "source": [
    "### Task 4: Implementing Bayes' Theorem\n",
    "Implement Bayes' Theorem to classify emails as spam or ham."
   ]
  },
  {
   "cell_type": "code",
   "execution_count": 19,
   "metadata": {},
   "outputs": [
    {
     "data": {
      "text/plain": [
       "Index(['email_length', 'contains_free', 'contains_winner', 'time_of_day',\n",
       "       'label', 'Len'],\n",
       "      dtype='object')"
      ]
     },
     "execution_count": 19,
     "metadata": {},
     "output_type": "execute_result"
    }
   ],
   "source": [
    "df.columns"
   ]
  },
  {
   "cell_type": "code",
   "execution_count": 20,
   "metadata": {},
   "outputs": [
    {
     "data": {
      "text/plain": [
       "array(['morning', 'afternoon', 'evening', 'night'], dtype=object)"
      ]
     },
     "execution_count": 20,
     "metadata": {},
     "output_type": "execute_result"
    }
   ],
   "source": [
    "df.time_of_day.unique()"
   ]
  },
  {
   "cell_type": "code",
   "execution_count": 21,
   "metadata": {},
   "outputs": [
    {
     "data": {
      "text/plain": [
       "['long', 'medium', 'short']\n",
       "Categories (3, object): ['short' < 'medium' < 'long']"
      ]
     },
     "execution_count": 21,
     "metadata": {},
     "output_type": "execute_result"
    }
   ],
   "source": [
    "df.Len.unique()"
   ]
  },
  {
   "cell_type": "code",
   "execution_count": 50,
   "metadata": {},
   "outputs": [
    {
     "name": "stdout",
     "output_type": "stream",
     "text": [
      "0.3440677966101695\n"
     ]
    }
   ],
   "source": [
    "# P(spam | L, F, W, T.D) = P(L|spam) * P(F|spam) * P(W|spam) * P(T.D|spam) * P(spam)\n",
    "# P(ham | L, F, W, T.D) = P(L|ham) * P(F|ham) * P(W|ham) * P(T.D|ham) * P(ham)\n",
    "\n",
    "\n",
    "# P for a specific feature value and one target value, like P(L|spam)\n",
    "def calc_one_feature_val_one_target_val_prob(df, feature, feature_value, target, target_value):\n",
    "    top = len(df[(df[feature] == feature_value) & (df[target] == target_value)])\n",
    "    bottom = len(df[df[target] == target_value])\n",
    "    if bottom != 0:\n",
    "        return top / bottom\n",
    "    else: \n",
    "        return 0\n",
    "\n",
    "print(calc_one_feature_val_one_target_val_prob(df,'Len', 'medium', 'label', 'spam'))"
   ]
  },
  {
   "cell_type": "code",
   "execution_count": 49,
   "metadata": {},
   "outputs": [
    {
     "data": {
      "text/plain": [
       "array(['ham', 'spam'], dtype=object)"
      ]
     },
     "execution_count": 49,
     "metadata": {},
     "output_type": "execute_result"
    }
   ],
   "source": [
    "df['label'].unique()"
   ]
  },
  {
   "cell_type": "code",
   "execution_count": 51,
   "metadata": {},
   "outputs": [
    {
     "name": "stdout",
     "output_type": "stream",
     "text": [
      "{'ham': 0.33902439024390246, 'spam': 0.3440677966101695}\n"
     ]
    }
   ],
   "source": [
    "# P for all target values for a specific feature value\n",
    "def calc_one_feature_val_all_target_val_prob(df, feature, feature_value, target):\n",
    "    probs = {}\n",
    "    for target_value in df[target].unique():\n",
    "        probs[target_value] = calc_one_feature_val_one_target_val_prob(df, feature, feature_value, target, target_value)\n",
    "    return probs\n",
    "\n",
    "print(calc_one_feature_val_all_target_val_prob(df,'Len', 'medium', 'label'))"
   ]
  },
  {
   "cell_type": "code",
   "execution_count": null,
   "metadata": {},
   "outputs": [],
   "source": [
    "#### conditional probabilities for all feature_values of a specific feature"
   ]
  },
  {
   "cell_type": "code",
   "execution_count": 30,
   "metadata": {},
   "outputs": [
    {
     "name": "stdout",
     "output_type": "stream",
     "text": [
      "{'long': {'ham': 0.29024390243902437, 'spam': 0.3474576271186441}, 'medium': {'ham': 0.33902439024390246, 'spam': 0.3440677966101695}, 'short': {'ham': 0.37073170731707317, 'spam': 0.30847457627118646}}\n"
     ]
    }
   ],
   "source": [
    "# P for all target values for all feature values of a specific feature\n",
    "def calc__all_feature_val_all_target_val_prob(df, feature, target):\n",
    "    probabilities = {}\n",
    "    for feature_value in df[feature].unique():\n",
    "        probabilities[feature_value] = calc_one_feature_val_all_target_val_prob(df, feature, feature_value, target)\n",
    "    return probabilities\n",
    "\n",
    "print(calc__all_feature_val_all_target_val_prob(df, 'Len', 'label'))"
   ]
  },
  {
   "cell_type": "code",
   "execution_count": 32,
   "metadata": {},
   "outputs": [
    {
     "data": {
      "text/plain": [
       "{'Len': {'long': {'ham': 0.29024390243902437, 'spam': 0.3474576271186441},\n",
       "  'medium': {'ham': 0.33902439024390246, 'spam': 0.3440677966101695},\n",
       "  'short': {'ham': 0.37073170731707317, 'spam': 0.30847457627118646}},\n",
       " 'contains_free': {0: {'ham': 0.9243902439024391, 'spam': 0.5423728813559322},\n",
       "  1: {'ham': 0.07560975609756097, 'spam': 0.4576271186440678}},\n",
       " 'contains_winner': {0: {'ham': 0.848780487804878, 'spam': 0.2711864406779661},\n",
       "  1: {'ham': 0.15121951219512195, 'spam': 0.7288135593220338}},\n",
       " 'time_of_day': {'morning': {'ham': 0.21951219512195122,\n",
       "   'spam': 0.23728813559322035},\n",
       "  'afternoon': {'ham': 0.23902439024390243, 'spam': 0.2423728813559322},\n",
       "  'evening': {'ham': 0.24878048780487805, 'spam': 0.26101694915254237},\n",
       "  'night': {'ham': 0.2926829268292683, 'spam': 0.2593220338983051}}}"
      ]
     },
     "execution_count": 32,
     "metadata": {},
     "output_type": "execute_result"
    }
   ],
   "source": [
    "# Calculate conditional probabilities for each feature\n",
    "features = ['Len', 'contains_free', 'contains_winner', 'time_of_day']\n",
    "conditional_probabilities = {}\n",
    "for feature in features:\n",
    "    conditional_probabilities[feature] = calc__all_feature_val_all_target_val_prob(df, feature, 'label')\n",
    "conditional_probabilities"
   ]
  },
  {
   "cell_type": "code",
   "execution_count": 64,
   "metadata": {},
   "outputs": [
    {
     "data": {
      "text/plain": [
       "{'long': {'ham': 0.29024390243902437, 'spam': 0.3474576271186441},\n",
       " 'medium': {'ham': 0.33902439024390246, 'spam': 0.3440677966101695},\n",
       " 'short': {'ham': 0.37073170731707317, 'spam': 0.30847457627118646}}"
      ]
     },
     "execution_count": 64,
     "metadata": {},
     "output_type": "execute_result"
    }
   ],
   "source": [
    "conditional_probabilities['Len']"
   ]
  },
  {
   "cell_type": "code",
   "execution_count": 65,
   "metadata": {},
   "outputs": [
    {
     "data": {
      "text/plain": [
       "{'ham': 0.33902439024390246, 'spam': 0.3440677966101695}"
      ]
     },
     "execution_count": 65,
     "metadata": {},
     "output_type": "execute_result"
    }
   ],
   "source": [
    "conditional_probabilities['Len']['medium']"
   ]
  },
  {
   "cell_type": "code",
   "execution_count": 75,
   "metadata": {},
   "outputs": [
    {
     "name": "stdout",
     "output_type": "stream",
     "text": [
      "This email is probably: ('spam', 0.7145260913282748, 0.2854739086717252)\n"
     ]
    }
   ],
   "source": [
    "def Bayes_email_classifier(email, probabilities, prior_spam_prob, prior_ham_prob):\n",
    "    spam_probability = prior_spam_prob\n",
    "    ham_probability = prior_ham_prob\n",
    "\n",
    "    for feature, feature_value in email.items():\n",
    "        if feature_value in probabilities[feature]:\n",
    "                    \n",
    "                spam_probability *= probabilities[feature][feature_value]['spam']\n",
    " \n",
    "                ham_probability *= probabilities[feature][feature_value]['ham']\n",
    "\n",
    "    # Normalization step\n",
    "    total = spam_probability + ham_probability \n",
    "    spam_probability = spam_probability / total\n",
    "    ham_probability = ham_probability / total\n",
    "\n",
    "    if spam_probability > ham_probability:\n",
    "        return 'spam', spam_probability, ham_probability            # added final proba for better undrestanding\n",
    "    else: \n",
    "        return'ham', spam_probability, ham_probability\n",
    "\n",
    "\n",
    "\n",
    "\n",
    "email_1 = {\n",
    "    'Len': 'short',\n",
    "    'contains_free': 1,\n",
    "    'contains_winner': 0,\n",
    "    'time_of_day': 'morning'\n",
    "}\n",
    "\n",
    "Result = Bayes_email_classifier(email_1, conditional_probabilities, p_spam, p_ham)\n",
    "print(f\"This email is probably: {Result}\")"
   ]
  },
  {
   "cell_type": "code",
   "execution_count": 78,
   "metadata": {},
   "outputs": [
    {
     "name": "stdout",
     "output_type": "stream",
     "text": [
      "This email is probably: spam\n"
     ]
    }
   ],
   "source": [
    "def Bayes_email_classifier(email, probabilities, prior_spam_prob, prior_ham_prob):\n",
    "    spam_probability = prior_spam_prob\n",
    "    ham_probability = prior_ham_prob\n",
    "\n",
    "    for feature, feature_value in email.items():\n",
    "        if feature_value in probabilities[feature]:\n",
    "                    \n",
    "                spam_probability *= probabilities[feature][feature_value]['spam']\n",
    " \n",
    "                ham_probability *= probabilities[feature][feature_value]['ham']\n",
    "\n",
    "    # Normalization step\n",
    "    total = spam_probability + ham_probability \n",
    "    spam_probability = spam_probability / total\n",
    "    ham_probability = ham_probability / total\n",
    "\n",
    "    if spam_probability > ham_probability:\n",
    "        return 'spam'\n",
    "    else: \n",
    "        return'ham'\n",
    "\n",
    "\n",
    "\n",
    "\n",
    "email_1 = {\n",
    "    'Len': 'short',\n",
    "    'contains_free': 1,\n",
    "    'contains_winner': 0,\n",
    "    'time_of_day': 'morning'\n",
    "}\n",
    "\n",
    "Result = Bayes_email_classifier(email_1, conditional_probabilities, p_spam, p_ham)\n",
    "print(f\"This email is probably: {Result}\")"
   ]
  },
  {
   "cell_type": "markdown",
   "metadata": {},
   "source": [
    "### Task 5: Model Testing\n",
    "Test the model on a new dataset and evaluate its performance. You can use a subset of the dataset that you created or create a new one."
   ]
  },
  {
   "cell_type": "code",
   "execution_count": 100,
   "metadata": {},
   "outputs": [],
   "source": [
    "# create the test set\n",
    "\n",
    "import pandas as pd\n",
    "import numpy as np\n",
    "\n",
    "# Sample size\n",
    "n_samples = 1000\n",
    "\n",
    "# Simulating data\n",
    "# np.random.seed(42)\n",
    "\n",
    "data = {\n",
    "    'email_length': np.random.normal(100, 20, n_samples).astype(int),\n",
    "    'contains_free': np.random.choice([0, 1], size=n_samples, p=[0.7, 0.3]),\n",
    "    'contains_winner': np.random.choice([0, 1], size=n_samples, p=[0.5, 0.5]),\n",
    "    'time_of_day': np.random.choice(['morning', 'afternoon', 'evening', 'night'], n_samples),\n",
    "    'label': np.random.choice(['spam', 'ham'], n_samples, p=[0.4, 0.6])\n",
    "}\n",
    "\n",
    "t_df = pd.DataFrame(data)\n",
    "\n",
    "#Replace labels with ones with some relationship\n",
    "for index, row in t_df.iterrows():\n",
    "    prob = min(1, .7 *row[\"contains_free\"] + .7*row[\"contains_winner\"]+.1)\n",
    "    t_df.at[index, 'label'] = np.random.choice(['spam', 'ham'], p=[prob, 1-prob])\n"
   ]
  },
  {
   "cell_type": "code",
   "execution_count": 101,
   "metadata": {},
   "outputs": [
    {
     "data": {
      "text/html": [
       "<div>\n",
       "<style scoped>\n",
       "    .dataframe tbody tr th:only-of-type {\n",
       "        vertical-align: middle;\n",
       "    }\n",
       "\n",
       "    .dataframe tbody tr th {\n",
       "        vertical-align: top;\n",
       "    }\n",
       "\n",
       "    .dataframe thead th {\n",
       "        text-align: right;\n",
       "    }\n",
       "</style>\n",
       "<table border=\"1\" class=\"dataframe\">\n",
       "  <thead>\n",
       "    <tr style=\"text-align: right;\">\n",
       "      <th></th>\n",
       "      <th>email_length</th>\n",
       "      <th>contains_free</th>\n",
       "      <th>contains_winner</th>\n",
       "      <th>time_of_day</th>\n",
       "      <th>label</th>\n",
       "      <th>Len</th>\n",
       "    </tr>\n",
       "  </thead>\n",
       "  <tbody>\n",
       "    <tr>\n",
       "      <th>0</th>\n",
       "      <td>88</td>\n",
       "      <td>0</td>\n",
       "      <td>0</td>\n",
       "      <td>afternoon</td>\n",
       "      <td>ham</td>\n",
       "      <td>short</td>\n",
       "    </tr>\n",
       "    <tr>\n",
       "      <th>1</th>\n",
       "      <td>94</td>\n",
       "      <td>0</td>\n",
       "      <td>0</td>\n",
       "      <td>afternoon</td>\n",
       "      <td>ham</td>\n",
       "      <td>medium</td>\n",
       "    </tr>\n",
       "    <tr>\n",
       "      <th>2</th>\n",
       "      <td>116</td>\n",
       "      <td>0</td>\n",
       "      <td>0</td>\n",
       "      <td>morning</td>\n",
       "      <td>ham</td>\n",
       "      <td>long</td>\n",
       "    </tr>\n",
       "    <tr>\n",
       "      <th>3</th>\n",
       "      <td>88</td>\n",
       "      <td>0</td>\n",
       "      <td>1</td>\n",
       "      <td>night</td>\n",
       "      <td>spam</td>\n",
       "      <td>short</td>\n",
       "    </tr>\n",
       "    <tr>\n",
       "      <th>4</th>\n",
       "      <td>85</td>\n",
       "      <td>0</td>\n",
       "      <td>0</td>\n",
       "      <td>evening</td>\n",
       "      <td>ham</td>\n",
       "      <td>short</td>\n",
       "    </tr>\n",
       "  </tbody>\n",
       "</table>\n",
       "</div>"
      ],
      "text/plain": [
       "   email_length  contains_free  contains_winner time_of_day label     Len\n",
       "0            88              0                0   afternoon   ham   short\n",
       "1            94              0                0   afternoon   ham  medium\n",
       "2           116              0                0     morning   ham    long\n",
       "3            88              0                1       night  spam   short\n",
       "4            85              0                0     evening   ham   short"
      ]
     },
     "execution_count": 101,
     "metadata": {},
     "output_type": "execute_result"
    }
   ],
   "source": [
    "# preprocessing the test set\n",
    "categories = ['short', 'medium', 'long']\n",
    "\n",
    "t_df['Len'] = pd.qcut(t_df['email_length'], len(categories), labels = categories)\n",
    "t_df.head()"
   ]
  },
  {
   "cell_type": "code",
   "execution_count": 102,
   "metadata": {},
   "outputs": [
    {
     "data": {
      "text/html": [
       "<div>\n",
       "<style scoped>\n",
       "    .dataframe tbody tr th:only-of-type {\n",
       "        vertical-align: middle;\n",
       "    }\n",
       "\n",
       "    .dataframe tbody tr th {\n",
       "        vertical-align: top;\n",
       "    }\n",
       "\n",
       "    .dataframe thead th {\n",
       "        text-align: right;\n",
       "    }\n",
       "</style>\n",
       "<table border=\"1\" class=\"dataframe\">\n",
       "  <thead>\n",
       "    <tr style=\"text-align: right;\">\n",
       "      <th></th>\n",
       "      <th>email_length</th>\n",
       "      <th>contains_free</th>\n",
       "      <th>contains_winner</th>\n",
       "      <th>time_of_day</th>\n",
       "      <th>label</th>\n",
       "      <th>Len</th>\n",
       "      <th>prediction</th>\n",
       "    </tr>\n",
       "  </thead>\n",
       "  <tbody>\n",
       "    <tr>\n",
       "      <th>0</th>\n",
       "      <td>88</td>\n",
       "      <td>0</td>\n",
       "      <td>0</td>\n",
       "      <td>afternoon</td>\n",
       "      <td>ham</td>\n",
       "      <td>short</td>\n",
       "      <td>ham</td>\n",
       "    </tr>\n",
       "    <tr>\n",
       "      <th>1</th>\n",
       "      <td>94</td>\n",
       "      <td>0</td>\n",
       "      <td>0</td>\n",
       "      <td>afternoon</td>\n",
       "      <td>ham</td>\n",
       "      <td>medium</td>\n",
       "      <td>ham</td>\n",
       "    </tr>\n",
       "    <tr>\n",
       "      <th>2</th>\n",
       "      <td>116</td>\n",
       "      <td>0</td>\n",
       "      <td>0</td>\n",
       "      <td>morning</td>\n",
       "      <td>ham</td>\n",
       "      <td>long</td>\n",
       "      <td>ham</td>\n",
       "    </tr>\n",
       "    <tr>\n",
       "      <th>3</th>\n",
       "      <td>88</td>\n",
       "      <td>0</td>\n",
       "      <td>1</td>\n",
       "      <td>night</td>\n",
       "      <td>spam</td>\n",
       "      <td>short</td>\n",
       "      <td>spam</td>\n",
       "    </tr>\n",
       "    <tr>\n",
       "      <th>4</th>\n",
       "      <td>85</td>\n",
       "      <td>0</td>\n",
       "      <td>0</td>\n",
       "      <td>evening</td>\n",
       "      <td>ham</td>\n",
       "      <td>short</td>\n",
       "      <td>ham</td>\n",
       "    </tr>\n",
       "  </tbody>\n",
       "</table>\n",
       "</div>"
      ],
      "text/plain": [
       "   email_length  contains_free  contains_winner time_of_day label     Len  \\\n",
       "0            88              0                0   afternoon   ham   short   \n",
       "1            94              0                0   afternoon   ham  medium   \n",
       "2           116              0                0     morning   ham    long   \n",
       "3            88              0                1       night  spam   short   \n",
       "4            85              0                0     evening   ham   short   \n",
       "\n",
       "  prediction  \n",
       "0        ham  \n",
       "1        ham  \n",
       "2        ham  \n",
       "3       spam  \n",
       "4        ham  "
      ]
     },
     "execution_count": 102,
     "metadata": {},
     "output_type": "execute_result"
    }
   ],
   "source": [
    "predictions = []\n",
    "\n",
    "for _, record in t_df.iterrows():\n",
    "    prediction = Bayes_email_classifier(\n",
    "        {\n",
    "            'Len': record['Len'],\n",
    "            'contains_free': record['contains_free'],\n",
    "            'contains_winner': record['contains_winner'],\n",
    "            'time_of_day': record['time_of_day']\n",
    "        },\n",
    "        conditional_probabilities,\n",
    "        p_spam,\n",
    "        p_ham\n",
    "    )\n",
    "    predictions.append(prediction)\n",
    "\n",
    "t_df['prediction'] = predictions\n",
    "t_df.head()"
   ]
  },
  {
   "cell_type": "code",
   "execution_count": 103,
   "metadata": {},
   "outputs": [
    {
     "data": {
      "text/plain": [
       "85.5"
      ]
     },
     "execution_count": 103,
     "metadata": {},
     "output_type": "execute_result"
    }
   ],
   "source": [
    "# testing the performance\n",
    "\n",
    "((t_df['label'] == t_df['prediction']).sum()/len(t_df)) * 100"
   ]
  },
  {
   "cell_type": "markdown",
   "metadata": {},
   "source": [
    "### Task 6: Discussion\n",
    "1. Discuss how Bayesian updating improves the accuracy of the classifier.\n",
    "2. What are the limitations of the model built in this lab?\n"
   ]
  },
  {
   "cell_type": "code",
   "execution_count": null,
   "metadata": {},
   "outputs": [],
   "source": [
    "# 1) Bayesian updating is signifant because it combines the prior probabilities with the new event probabilities. \n",
    "# with no need to rebuild the model. It balances the prior knowledge and new evidence. This balance helps prevent the model \n",
    "# from overfitting to noise in the new data or underfitting by ignoring prior information, leading to more accurate predictions.\n",
    "# It also helps recognize and adjust for dependencies among features and supports continuous learning as well.\n",
    "\n",
    "# 2) If your training_set does not contain specific feature-value combination, classifier assigns zero probability to those combinations.\n",
    "# The accuracy of the classifier depends on the quality of the training data\n",
    "# It requires the conversion of continuous data into categories (like binning), which might not always capture the underlying patterns accurately."
   ]
  },
  {
   "cell_type": "markdown",
   "metadata": {},
   "source": [
    "## Submission\n",
    "Submit a link to your completed Jupyter Notebook file hosted on your private GitHub repository through the submission link in Blackboard."
   ]
  }
 ],
 "metadata": {
  "kernelspec": {
   "display_name": "Python 3 (ipykernel)",
   "language": "python",
   "name": "python3"
  },
  "language_info": {
   "codemirror_mode": {
    "name": "ipython",
    "version": 3
   },
   "file_extension": ".py",
   "mimetype": "text/x-python",
   "name": "python",
   "nbconvert_exporter": "python",
   "pygments_lexer": "ipython3",
   "version": "3.11.3"
  }
 },
 "nbformat": 4,
 "nbformat_minor": 4
}
