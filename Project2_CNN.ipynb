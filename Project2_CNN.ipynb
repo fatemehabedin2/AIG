{
  "nbformat": 4,
  "nbformat_minor": 0,
  "metadata": {
    "colab": {
      "provenance": [],
      "authorship_tag": "ABX9TyPg8Rtk9IkJ4SdqVOgL6WcN",
      "include_colab_link": true
    },
    "kernelspec": {
      "name": "python3",
      "display_name": "Python 3"
    },
    "language_info": {
      "name": "python"
    }
  },
  "cells": [
    {
      "cell_type": "markdown",
      "metadata": {
        "id": "view-in-github",
        "colab_type": "text"
      },
      "source": [
        "<a href=\"https://colab.research.google.com/github/fatemehabedin2/AIG100/blob/main/Project2_CNN.ipynb\" target=\"_parent\"><img src=\"https://colab.research.google.com/assets/colab-badge.svg\" alt=\"Open In Colab\"/></a>"
      ]
    },
    {
      "cell_type": "code",
      "source": [
        "from google.colab import files\n",
        "# Upload kaggle.json to Colab\n",
        "files.upload()\n",
        "\n",
        "import os\n",
        "# Set Up Kaggle API Access in Colab\n",
        "# Create directory and move file\n",
        "os.makedirs('/root/.kaggle', exist_ok=True)\n",
        "!mv kaggle.json /root/.kaggle/\n",
        "!chmod 600 /root/.kaggle/kaggle.json\n",
        "\n",
        "# Download the Dataset\n",
        "!kaggle datasets download -d rahimanshu/cardiomegaly-disease-prediction-using-cnn\n",
        "\n",
        "import zipfile\n",
        "\n",
        "with zipfile.ZipFile(\"cardiomegaly-disease-prediction-using-cnn.zip\", \"r\") as zip_ref:\n",
        "    zip_ref.extractall(\"cardiomegaly_data\")"
      ],
      "metadata": {
        "id": "ncV528ROqjlg"
      },
      "execution_count": 2,
      "outputs": []
    },
    {
      "cell_type": "code",
      "source": [],
      "metadata": {
        "colab": {
          "base_uri": "https://localhost:8080/"
        },
        "id": "ue12p54Rq5sw",
        "outputId": "217032a6-c3ad-4c2b-8c5b-9c61c580ec1c"
      },
      "execution_count": 3,
      "outputs": [
        {
          "output_type": "stream",
          "name": "stdout",
          "text": [
            "Dataset URL: https://www.kaggle.com/datasets/rahimanshu/cardiomegaly-disease-prediction-using-cnn\n",
            "License(s): CC0-1.0\n",
            "Downloading cardiomegaly-disease-prediction-using-cnn.zip to /content\n",
            "  0% 0.00/61.7M [00:00<?, ?B/s]\n",
            "100% 61.7M/61.7M [00:00<00:00, 1.14GB/s]\n"
          ]
        }
      ]
    },
    {
      "cell_type": "code",
      "source": [
        "!ls cardiomegaly_data\n"
      ],
      "metadata": {
        "colab": {
          "base_uri": "https://localhost:8080/"
        },
        "id": "N8t-K4wBvdcr",
        "outputId": "255129e2-e641-482b-8ebe-d283f5f8b78a"
      },
      "execution_count": 7,
      "outputs": [
        {
          "output_type": "stream",
          "name": "stdout",
          "text": [
            "test  train\n"
          ]
        }
      ]
    },
    {
      "cell_type": "code",
      "source": [
        "!ls cardiomegaly_data/train/train\n"
      ],
      "metadata": {
        "colab": {
          "base_uri": "https://localhost:8080/"
        },
        "id": "__j0OkrBvuW5",
        "outputId": "6ea82126-3a30-4132-fee8-e99133e79c5e"
      },
      "execution_count": 9,
      "outputs": [
        {
          "output_type": "stream",
          "name": "stdout",
          "text": [
            "false  true\n"
          ]
        }
      ]
    },
    {
      "cell_type": "code",
      "source": [
        "!ls cardiomegaly_data//test/test"
      ],
      "metadata": {
        "colab": {
          "base_uri": "https://localhost:8080/"
        },
        "id": "8yDyptkXxLmg",
        "outputId": "0950f73c-dddb-47e3-a0b4-fd22ca2cc65b"
      },
      "execution_count": 11,
      "outputs": [
        {
          "output_type": "stream",
          "name": "stdout",
          "text": [
            "false  true\n"
          ]
        }
      ]
    },
    {
      "cell_type": "markdown",
      "source": [
        "# load this dataset\n",
        "Load using torchvision.datasets.ImageFolder"
      ],
      "metadata": {
        "id": "U0YhlCUowhQb"
      }
    },
    {
      "cell_type": "code",
      "source": [
        "from torchvision import datasets, transforms\n",
        "from torch.utils.data import DataLoader\n",
        "\n",
        "# Define transforms\n",
        "transform = transforms.Compose([\n",
        "    transforms.Resize((224, 224)),  # Resize to match CNN input\n",
        "    transforms.ToTensor()\n",
        "])\n",
        "\n",
        "# Load training and test datasets\n",
        "train_dataset = datasets.ImageFolder(root='cardiomegaly_data/train/train', transform=transform)\n",
        "test_dataset = datasets.ImageFolder(root='cardiomegaly_data/test/test', transform=transform)\n",
        "\n",
        "# Create DataLoaders\n",
        "train_loader = DataLoader(train_dataset, batch_size=32, shuffle=True)\n",
        "test_loader = DataLoader(test_dataset, batch_size=32, shuffle=False)\n"
      ],
      "metadata": {
        "id": "DXI6KJc_wDIf"
      },
      "execution_count": null,
      "outputs": []
    }
  ]
}